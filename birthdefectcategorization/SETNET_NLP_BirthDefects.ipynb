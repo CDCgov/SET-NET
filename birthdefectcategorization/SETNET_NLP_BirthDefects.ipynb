{
 "cells": [
  {
   "cell_type": "markdown",
   "id": "a96ba5e8",
   "metadata": {},
   "source": [
    "## SET-NET Birth Defects NLP Python Code: Jupyter Notebook"
   ]
  },
  {
   "cell_type": "markdown",
   "id": "42349abb",
   "metadata": {},
   "source": [
    "Authors: Suzy Newton, Nicki Roth, Amy Board, Samantha Distler \\\n",
    "Last Updated: 08/16/2023 \\\n",
    "Purpose: To categorize free text fields for birth defects into overarching categories for analysis \\\n",
    "\\\n",
    "This notebook will guide you through the steps for conducting text cleaning and categorization of the bg_icd and bg_icd_sp fields."
   ]
  },
  {
   "cell_type": "markdown",
   "id": "dd835c90",
   "metadata": {},
   "source": [
    "## Libraries and setup\n",
    "\n",
    "Before running the cell below, make sure that you have installed the packages using the Anaconda command prompt. If you do not have Anaconda installed, you may download it here: https://www.anaconda.com/products/distribution. \\\n",
    "\\\n",
    "When running the cell below, you may get the following warning message: 'UserWarning: Using slow pure-python SequenceMatcher. Install python-Levenshtein to remove this warning.' You can ignore this message--it's in reference to the fuzzy matching process function we'll use later on, and it's just warning you that the fuzzy match might take a little while to run."
   ]
  },
  {
   "cell_type": "code",
   "execution_count": 1,
   "id": "f9d4f220",
   "metadata": {},
   "outputs": [],
   "source": [
    "import pandas as pd\n",
    "import numpy as np\n",
    "import os\n",
    "import re\n",
    "import sys\n",
    "import string\n",
    "import seaborn as sns\n",
    "import matplotlib.pyplot as plt\n",
    "\n",
    "\n",
    "# text processing and NLP\n",
    "import nltk\n",
    "import sklearn\n",
    "from nltk.tokenize import RegexpTokenizer,sent_tokenize,word_tokenize\n",
    "from nltk.corpus import stopwords\n",
    "from sklearn.feature_extraction.text import TfidfVectorizer\n",
    "from sklearn.model_selection import train_test_split\n",
    "from sklearn.metrics import classification_report, accuracy_score, confusion_matrix\n",
    "from sklearn.naive_bayes import MultinomialNB\n",
    "from sklearn.neural_network import MLPClassifier\n",
    "from sklearn.ensemble import RandomForestClassifier\n",
    "from sklearn.model_selection import KFold,StratifiedKFold\n",
    "from sklearn.model_selection import cross_val_score\n",
    "from sklearn.model_selection import cross_val_predict\n",
    "\n",
    "# fuzzy matching\n",
    "from fuzzywuzzy import fuzz\n",
    "from fuzzywuzzy import process\n",
    "\n",
    "# So all output comes through from Ipython\n",
    "from IPython.core.interactiveshell import InteractiveShell\n",
    "InteractiveShell.ast_node_interactivity = \"all\"\n",
    "\n",
    "# Set the max number of rows to print out so the notebook is easier to read and navigate\n",
    "# You can increase this beyond 20 if you want\n",
    "pd.options.display.max_rows = 20\n",
    "\n",
    "#Connecting to the SQL server\n",
    "from sqlalchemy.engine import URL\n",
    "from sqlalchemy import create_engine"
   ]
  },
  {
   "cell_type": "markdown",
   "id": "f61a0250",
   "metadata": {},
   "source": [
    "## Check your working directory"
   ]
  },
  {
   "cell_type": "markdown",
   "id": "f0cb5735",
   "metadata": {},
   "source": [
    "Your working directory should point to wherever you cloned this GitHub repo. You can check your working directory like so:"
   ]
  },
  {
   "cell_type": "code",
   "execution_count": 2,
   "id": "3399acdc",
   "metadata": {},
   "outputs": [
    {
     "name": "stdout",
     "output_type": "stream",
     "text": [
      "C:\\Users\\ogc4\\Desktop\n"
     ]
    }
   ],
   "source": [
    "# Working Directory\n",
    "print(os.getcwd())"
   ]
  },
  {
   "cell_type": "code",
   "execution_count": null,
   "id": "2ab60cf3",
   "metadata": {},
   "outputs": [],
   "source": [
    "# Set Working Directory (if needed)\n",
    "## os.chdir(\"[GITHUB-REPO-LOCATION-HERE]\") "
   ]
  },
  {
   "cell_type": "code",
   "execution_count": 3,
   "id": "013e1d57",
   "metadata": {},
   "outputs": [
    {
     "name": "stdout",
     "output_type": "stream",
     "text": [
      "My working directory:\n",
      "C:\\Users\\ogc4\\Desktop\n"
     ]
    }
   ],
   "source": [
    "# Confirm it changed the working Directory\n",
    "print(\"My working directory:\\n\" + os.getcwd())"
   ]
  },
  {
   "cell_type": "markdown",
   "id": "5cc3fec4",
   "metadata": {},
   "source": [
    "## Import the dummy data file\n",
    "\n",
    "The NLP folder in this GitHub Repo contains a file of dummy data that can be used for learning purposes. If you are using this code with other data, you may need to clean and transform your dataset so it matches this format."
   ]
  },
  {
   "cell_type": "code",
   "execution_count": 4,
   "id": "c27ad21c",
   "metadata": {},
   "outputs": [
    {
     "name": "stdout",
     "output_type": "stream",
     "text": [
      "<class 'pandas.core.frame.DataFrame'>\n",
      "RangeIndex: 1000 entries, 0 to 999\n",
      "Data columns (total 3 columns):\n",
      " #   Column     Non-Null Count  Dtype \n",
      "---  ------     --------------  ----- \n",
      " 0   ID         1000 non-null   int64 \n",
      " 1   bg_icd     876 non-null    object\n",
      " 2   bg_icd_sp  875 non-null    object\n",
      "dtypes: int64(1), object(2)\n",
      "memory usage: 23.6+ KB\n"
     ]
    },
    {
     "data": {
      "text/html": [
       "<div>\n",
       "<style scoped>\n",
       "    .dataframe tbody tr th:only-of-type {\n",
       "        vertical-align: middle;\n",
       "    }\n",
       "\n",
       "    .dataframe tbody tr th {\n",
       "        vertical-align: top;\n",
       "    }\n",
       "\n",
       "    .dataframe thead th {\n",
       "        text-align: right;\n",
       "    }\n",
       "</style>\n",
       "<table border=\"1\" class=\"dataframe\">\n",
       "  <thead>\n",
       "    <tr style=\"text-align: right;\">\n",
       "      <th></th>\n",
       "      <th>ID</th>\n",
       "      <th>bg_icd</th>\n",
       "      <th>bg_icd_sp</th>\n",
       "    </tr>\n",
       "  </thead>\n",
       "  <tbody>\n",
       "    <tr>\n",
       "      <th>0</th>\n",
       "      <td>1</td>\n",
       "      <td>Q826</td>\n",
       "      <td>Congenital sacral dimple</td>\n",
       "    </tr>\n",
       "    <tr>\n",
       "      <th>1</th>\n",
       "      <td>2</td>\n",
       "      <td>M95.2</td>\n",
       "      <td>Head, molding noted.</td>\n",
       "    </tr>\n",
       "    <tr>\n",
       "      <th>2</th>\n",
       "      <td>3</td>\n",
       "      <td>751610</td>\n",
       "      <td>Mesothelial liver cyst</td>\n",
       "    </tr>\n",
       "    <tr>\n",
       "      <th>3</th>\n",
       "      <td>4</td>\n",
       "      <td>753410</td>\n",
       "      <td>Right duplex kidney</td>\n",
       "    </tr>\n",
       "    <tr>\n",
       "      <th>4</th>\n",
       "      <td>5</td>\n",
       "      <td>Q540</td>\n",
       "      <td>Hypospadias, balanic</td>\n",
       "    </tr>\n",
       "  </tbody>\n",
       "</table>\n",
       "</div>"
      ],
      "text/plain": [
       "   ID  bg_icd                 bg_icd_sp\n",
       "0   1    Q826  Congenital sacral dimple\n",
       "1   2   M95.2      Head, molding noted.\n",
       "2   3  751610    Mesothelial liver cyst\n",
       "3   4  753410       Right duplex kidney\n",
       "4   5    Q540      Hypospadias, balanic"
      ]
     },
     "execution_count": 4,
     "metadata": {},
     "output_type": "execute_result"
    }
   ],
   "source": [
    "data = pd.read_excel('synthetic_data_062023.xlsx')\n",
    "\n",
    "data=data[['ID', 'bg_icd', 'bg_icd_sp']] #extra step to remove temporary notes columns\n",
    "\n",
    "data.info()\n",
    "data.head()"
   ]
  },
  {
   "cell_type": "markdown",
   "id": "8c24bf86",
   "metadata": {},
   "source": [
    "## Import and clean the ICD code reference list\n",
    "\n",
    "Now we need to import and clean the ICD code reference list so that we can match ICD codes and text data from the POB file and categorize them accordingly. Be sure to update the file directory and/or filename as needed in the step below to make sure that the most current, up-to-date reference list is being pulled in."
   ]
  },
  {
   "cell_type": "code",
   "execution_count": 23,
   "id": "6ad2c813",
   "metadata": {
    "scrolled": true
   },
   "outputs": [
    {
     "name": "stdout",
     "output_type": "stream",
     "text": [
      "<class 'pandas.core.frame.DataFrame'>\n",
      "RangeIndex: 924 entries, 0 to 923\n",
      "Data columns (total 5 columns):\n",
      " #   Column      Non-Null Count  Dtype  \n",
      "---  ------      --------------  -----  \n",
      " 0   ICD         924 non-null    object \n",
      " 1   MACDP_low   137 non-null    float64\n",
      " 2   MACDP_high  137 non-null    float64\n",
      " 3   Text        924 non-null    object \n",
      " 4   Category    924 non-null    object \n",
      "dtypes: float64(2), object(3)\n",
      "memory usage: 36.2+ KB\n"
     ]
    }
   ],
   "source": [
    "q = pd.read_excel('SETNET_birthdefects_codes_inclusion.xlsx')\n",
    "\n",
    "q.info()"
   ]
  },
  {
   "cell_type": "code",
   "execution_count": 6,
   "id": "a9a3abf6",
   "metadata": {},
   "outputs": [
    {
     "data": {
      "text/html": [
       "<div>\n",
       "<style scoped>\n",
       "    .dataframe tbody tr th:only-of-type {\n",
       "        vertical-align: middle;\n",
       "    }\n",
       "\n",
       "    .dataframe tbody tr th {\n",
       "        vertical-align: top;\n",
       "    }\n",
       "\n",
       "    .dataframe thead th {\n",
       "        text-align: right;\n",
       "    }\n",
       "</style>\n",
       "<table border=\"1\" class=\"dataframe\">\n",
       "  <thead>\n",
       "    <tr style=\"text-align: right;\">\n",
       "      <th></th>\n",
       "      <th>ICD</th>\n",
       "      <th>MACDP_low</th>\n",
       "      <th>MACDP_high</th>\n",
       "      <th>Text</th>\n",
       "      <th>Category</th>\n",
       "    </tr>\n",
       "  </thead>\n",
       "  <tbody>\n",
       "    <tr>\n",
       "      <th>0</th>\n",
       "      <td>Q00</td>\n",
       "      <td>NaN</td>\n",
       "      <td>NaN</td>\n",
       "      <td>Anencephaly and similar malformations</td>\n",
       "      <td>Congenital malformations of the nervous system</td>\n",
       "    </tr>\n",
       "    <tr>\n",
       "      <th>1</th>\n",
       "      <td>Q00.0</td>\n",
       "      <td>740000.0</td>\n",
       "      <td>740109.0</td>\n",
       "      <td>Anencephaly</td>\n",
       "      <td>Congenital malformations of the nervous system</td>\n",
       "    </tr>\n",
       "    <tr>\n",
       "      <th>2</th>\n",
       "      <td>Q00.1</td>\n",
       "      <td>NaN</td>\n",
       "      <td>NaN</td>\n",
       "      <td>Craniorachischisis</td>\n",
       "      <td>Congenital malformations of the nervous system</td>\n",
       "    </tr>\n",
       "    <tr>\n",
       "      <th>3</th>\n",
       "      <td>Q00.2</td>\n",
       "      <td>NaN</td>\n",
       "      <td>NaN</td>\n",
       "      <td>Iniencephaly</td>\n",
       "      <td>Congenital malformations of the nervous system</td>\n",
       "    </tr>\n",
       "    <tr>\n",
       "      <th>4</th>\n",
       "      <td>Q01</td>\n",
       "      <td>742000.0</td>\n",
       "      <td>742099.0</td>\n",
       "      <td>Encephalocele</td>\n",
       "      <td>Congenital malformations of the nervous system</td>\n",
       "    </tr>\n",
       "  </tbody>\n",
       "</table>\n",
       "</div>"
      ],
      "text/plain": [
       "     ICD  MACDP_low  MACDP_high                                   Text  \\\n",
       "0    Q00        NaN         NaN  Anencephaly and similar malformations   \n",
       "1  Q00.0   740000.0    740109.0                            Anencephaly   \n",
       "2  Q00.1        NaN         NaN                     Craniorachischisis   \n",
       "3  Q00.2        NaN         NaN                           Iniencephaly   \n",
       "4    Q01   742000.0    742099.0                          Encephalocele   \n",
       "\n",
       "                                         Category  \n",
       "0  Congenital malformations of the nervous system  \n",
       "1  Congenital malformations of the nervous system  \n",
       "2  Congenital malformations of the nervous system  \n",
       "3  Congenital malformations of the nervous system  \n",
       "4  Congenital malformations of the nervous system  "
      ]
     },
     "execution_count": 6,
     "metadata": {},
     "output_type": "execute_result"
    }
   ],
   "source": [
    "# Display the first 5 observations in the reference list\n",
    "# Check against the excel spreadsheet to ensure that everything looks correct\n",
    "\n",
    "q.head()"
   ]
  },
  {
   "cell_type": "code",
   "execution_count": 7,
   "id": "c1f812d4",
   "metadata": {},
   "outputs": [
    {
     "data": {
      "text/plain": [
       "12"
      ]
     },
     "execution_count": 7,
     "metadata": {},
     "output_type": "execute_result"
    }
   ],
   "source": [
    "# Count the number of categories in the reference list\n",
    "# The resulting number should be 13 (1 more category will be added in later steps)\n",
    "\n",
    "q['Category'].nunique()"
   ]
  },
  {
   "cell_type": "code",
   "execution_count": 24,
   "id": "33ce5bc3",
   "metadata": {},
   "outputs": [
    {
     "data": {
      "text/html": [
       "<div>\n",
       "<style scoped>\n",
       "    .dataframe tbody tr th:only-of-type {\n",
       "        vertical-align: middle;\n",
       "    }\n",
       "\n",
       "    .dataframe tbody tr th {\n",
       "        vertical-align: top;\n",
       "    }\n",
       "\n",
       "    .dataframe thead th {\n",
       "        text-align: right;\n",
       "    }\n",
       "</style>\n",
       "<table border=\"1\" class=\"dataframe\">\n",
       "  <thead>\n",
       "    <tr style=\"text-align: right;\">\n",
       "      <th></th>\n",
       "      <th>ICD</th>\n",
       "      <th>MACDP_low</th>\n",
       "      <th>MACDP_high</th>\n",
       "      <th>Text</th>\n",
       "      <th>Category</th>\n",
       "    </tr>\n",
       "  </thead>\n",
       "  <tbody>\n",
       "    <tr>\n",
       "      <th>0</th>\n",
       "      <td>Q00</td>\n",
       "      <td>NaN</td>\n",
       "      <td>NaN</td>\n",
       "      <td>Anencephaly and similar malformations</td>\n",
       "      <td>Congenital malformations of the nervous system</td>\n",
       "    </tr>\n",
       "    <tr>\n",
       "      <th>1</th>\n",
       "      <td>Q000</td>\n",
       "      <td>740000.0</td>\n",
       "      <td>740109.0</td>\n",
       "      <td>Anencephaly</td>\n",
       "      <td>Congenital malformations of the nervous system</td>\n",
       "    </tr>\n",
       "    <tr>\n",
       "      <th>2</th>\n",
       "      <td>Q001</td>\n",
       "      <td>NaN</td>\n",
       "      <td>NaN</td>\n",
       "      <td>Craniorachischisis</td>\n",
       "      <td>Congenital malformations of the nervous system</td>\n",
       "    </tr>\n",
       "    <tr>\n",
       "      <th>3</th>\n",
       "      <td>Q002</td>\n",
       "      <td>NaN</td>\n",
       "      <td>NaN</td>\n",
       "      <td>Iniencephaly</td>\n",
       "      <td>Congenital malformations of the nervous system</td>\n",
       "    </tr>\n",
       "    <tr>\n",
       "      <th>4</th>\n",
       "      <td>Q01</td>\n",
       "      <td>742000.0</td>\n",
       "      <td>742099.0</td>\n",
       "      <td>Encephalocele</td>\n",
       "      <td>Congenital malformations of the nervous system</td>\n",
       "    </tr>\n",
       "    <tr>\n",
       "      <th>...</th>\n",
       "      <td>...</td>\n",
       "      <td>...</td>\n",
       "      <td>...</td>\n",
       "      <td>...</td>\n",
       "      <td>...</td>\n",
       "    </tr>\n",
       "    <tr>\n",
       "      <th>919</th>\n",
       "      <td>Q990</td>\n",
       "      <td>NaN</td>\n",
       "      <td>NaN</td>\n",
       "      <td>Chimera 46, XX/46, XY</td>\n",
       "      <td>Chromosomal abnormalities, not elsewhere class...</td>\n",
       "    </tr>\n",
       "    <tr>\n",
       "      <th>920</th>\n",
       "      <td>Q991</td>\n",
       "      <td>NaN</td>\n",
       "      <td>NaN</td>\n",
       "      <td>46, XX true hermaphrodite</td>\n",
       "      <td>Chromosomal abnormalities, not elsewhere class...</td>\n",
       "    </tr>\n",
       "    <tr>\n",
       "      <th>921</th>\n",
       "      <td>Q992</td>\n",
       "      <td>NaN</td>\n",
       "      <td>NaN</td>\n",
       "      <td>Fragile X chromosome</td>\n",
       "      <td>Chromosomal abnormalities, not elsewhere class...</td>\n",
       "    </tr>\n",
       "    <tr>\n",
       "      <th>922</th>\n",
       "      <td>Q998</td>\n",
       "      <td>NaN</td>\n",
       "      <td>NaN</td>\n",
       "      <td>Other specified chromosome abnormalities</td>\n",
       "      <td>Chromosomal abnormalities, not elsewhere class...</td>\n",
       "    </tr>\n",
       "    <tr>\n",
       "      <th>923</th>\n",
       "      <td>Q999</td>\n",
       "      <td>NaN</td>\n",
       "      <td>NaN</td>\n",
       "      <td>Chromosomal abnormality, unspecified</td>\n",
       "      <td>Chromosomal abnormalities, not elsewhere class...</td>\n",
       "    </tr>\n",
       "  </tbody>\n",
       "</table>\n",
       "<p>924 rows × 5 columns</p>\n",
       "</div>"
      ],
      "text/plain": [
       "      ICD  MACDP_low  MACDP_high                                      Text  \\\n",
       "0     Q00        NaN         NaN     Anencephaly and similar malformations   \n",
       "1    Q000   740000.0    740109.0                               Anencephaly   \n",
       "2    Q001        NaN         NaN                        Craniorachischisis   \n",
       "3    Q002        NaN         NaN                              Iniencephaly   \n",
       "4     Q01   742000.0    742099.0                             Encephalocele   \n",
       "..    ...        ...         ...                                       ...   \n",
       "919  Q990        NaN         NaN                     Chimera 46, XX/46, XY   \n",
       "920  Q991        NaN         NaN                 46, XX true hermaphrodite   \n",
       "921  Q992        NaN         NaN                      Fragile X chromosome   \n",
       "922  Q998        NaN         NaN  Other specified chromosome abnormalities   \n",
       "923  Q999        NaN         NaN      Chromosomal abnormality, unspecified   \n",
       "\n",
       "                                              Category  \n",
       "0       Congenital malformations of the nervous system  \n",
       "1       Congenital malformations of the nervous system  \n",
       "2       Congenital malformations of the nervous system  \n",
       "3       Congenital malformations of the nervous system  \n",
       "4       Congenital malformations of the nervous system  \n",
       "..                                                 ...  \n",
       "919  Chromosomal abnormalities, not elsewhere class...  \n",
       "920  Chromosomal abnormalities, not elsewhere class...  \n",
       "921  Chromosomal abnormalities, not elsewhere class...  \n",
       "922  Chromosomal abnormalities, not elsewhere class...  \n",
       "923  Chromosomal abnormalities, not elsewhere class...  \n",
       "\n",
       "[924 rows x 5 columns]"
      ]
     },
     "execution_count": 24,
     "metadata": {},
     "output_type": "execute_result"
    }
   ],
   "source": [
    "# remove periods and any other characters that might have been mistakenly added to the ICD code field\n",
    "remove = ['\\\\.', ' ', ',', ';', ':', '_', '\\\\?', '!', '\\\\(', '\\\\)']\n",
    "\n",
    "for i in remove:\n",
    "    q['ICD'] = q['ICD'].str.replace(i,'',regex=True)\n",
    "\n",
    "\n",
    "q\n"
   ]
  },
  {
   "cell_type": "markdown",
   "id": "6681504b",
   "metadata": {},
   "source": [
    "## Explore and modify the POB data\n",
    "\n",
    "The steps below provide insight into the basic data structure, data types, and data composition. They also clean the bg_icd and bg_icd_sp codes in preparation for matching to the reference list."
   ]
  },
  {
   "cell_type": "code",
   "execution_count": 25,
   "id": "e8cdb274",
   "metadata": {},
   "outputs": [
    {
     "data": {
      "text/plain": [
       "ID             0\n",
       "bg_icd       124\n",
       "bg_icd_sp    125\n",
       "ICD          124\n",
       "dtype: int64"
      ]
     },
     "execution_count": 25,
     "metadata": {},
     "output_type": "execute_result"
    }
   ],
   "source": [
    "# Identify the number of null values in each column\n",
    "# If there are null (NaN) values in the columns, they will interfere with our analyses\n",
    "\n",
    "data.isnull().sum()"
   ]
  },
  {
   "cell_type": "code",
   "execution_count": 26,
   "id": "d5f37769",
   "metadata": {},
   "outputs": [
    {
     "data": {
      "text/plain": [
       "372"
      ]
     },
     "execution_count": 26,
     "metadata": {},
     "output_type": "execute_result"
    }
   ],
   "source": [
    "# Count the number of unique ICD-10 codes\n",
    "\n",
    "data['bg_icd'].nunique()"
   ]
  },
  {
   "cell_type": "code",
   "execution_count": 27,
   "id": "b4b4c4fe",
   "metadata": {
    "scrolled": false
   },
   "outputs": [
    {
     "name": "stdout",
     "output_type": "stream",
     "text": [
      "['Q826', 'M95.2', '751610', '753410', 'Q540', 'Q900', nan, '756710', 'Q381', 'Q69.9', 'Q25. 0', 'Q04.0', 'Q25.0', '742100', 'P520', 'Q60.6', 'Q231', '743202', 'Q620', 'D709', 'Q21. 0', 'Q438', 'Q27.0', 'Q82.5', 'Q79.0', 'Q76.3', 'Q82.8', 'Q828', 'D7282', 'Q315', '749201', 'Q250', 'P358', '751490', 'Q21.0', 'Q21.1', 'Q910', 'Q62.0', 'Q17.4', 'Q048', 'Q211', 'L91.8', 'Q549', 'E872', 'Q70.33', 'Q25.9', 'Q02', 'Q98.5', 'Q825', '749090', 'Q55.64', 'Q43.8', 'Q41.1', 'Q22.5', 'D18.1', 'Q210', 'Q38.1', 'P29.3', 'Q99', 'F88', 'Q600', 'D22.5', ' Q65.89', 'Q752', 'Q213', 'Q5569', 'Q21.2', 'Q385', 'Q33.0', 'Q6589', 'Q501', 'Q42.3', 'Q65.89', 'Q659', '750600', '744214', 'Q54.9', '741843', 'Q400', 'Q541', '749190', '758.700', 'O35.8XX0', 'Q18.3', 'Q31.5', 'E2740', 'Q544', 'P362', 'L73.8', 'Q90', 'Q872', 'Q120', 'Q256', 'Q60', 'Q790', 'P70.0', 'P29.12', '745.490', 'Q234', 'Q89.9', 'Q181', '758200', '756190', 'Q04.8', 'N48.82', 'Q04.3', 'Q172', 'Q76.49', 'Q5563', 'Q2549', 'Q5564', 'Q41.9', 'Q892', 'Q6689', 'Q442', 'H02.53', 'P021', 'Q82.6', '753600', 'Q558', 'Q25.29', 'Q8740', 'Q68.0', '752605', 'Q390', 'Q5522', 'P521', 'Q320', 'E806', '753.302', 'Q90.0', 'Q64.79', 'Q380', '749070', '744810', '747190', 'Q2542', 'Q23.4', '752600', 'Q92.5', 'P90', 'ICD 10: Q21.3', 'Q67.4', 'Q564', 'Q232', 'Q848', 'Q38. 1', 'Q928', '745486', 'Q630', 'P95', 'Q55.29', 'Q255', 'Q79.9', 'Q632', 'M20.5', 'G4082', 'Q379', 'Q65.32', 'N47.1', 'Q012', 'Q54. 2', 'Q38.0', 'D181', 'Q369', '752520', 'Q55.63', 'D573', 'yes genitourinary', 'Q204', 'Q625', 'Q673', 'Q221', '745490', 'Q750', 'P022', 'D701', 'yes gastrointestinal', 'Q74.2', '759300', 'Q63.2', 'E71.0', 'Q74.0', '745485', '747230', 'Q73', '754810', 'Q30.0', 'P239', '746.700', '745510', 'D8482', 'Q56.4', 'Q631', 'Q248', 'K429', 'Q6622', '744100', 'P12.81', 'P0414', 'Q212', 'Q69.0', 'Q79.2', 'Q04.6', 'E871', 'P002', 'Q63.8', 'Q27.9', 'Q86.0', '756601', 'P28.5', 'Q228', 'Q688', 'Q18.1', 'A502', 'Q170', 'Q25.4', '745.49', 'Q774', 'Q870', 'Q64.33', 'Q37.9', 'Q35.9', 'Q79. 3', 'Q851', 'Q40.0', '756330', 'Q740', '746010', 'Q268', 'E876', 'Q670', 'G248', 'Q7959', 'Q22.0', 'Q24.9', 'Q627', 'Q67.3', '747500', 'Q54.4', 'Q60.0', 'Q233', 'Q39.1', 'Q203', 'Q26.1', 'Q759', 'Q65.02', 'Z91.89', 'Q10.6', 'Q33.6', 'Q359', 'Q61.4', 'Q633', 'Q278', 'Q67. 3', 'Q614', '758000', 'Q67.2', 'Q66.0', '749.201', '758999', 'Q21', 'N48.89', 'Q5321', 'Q439', '742.230', 'Q17.0', 'Q644', 'Q25.1', 'Q82. 5', 'Q90.9,', 'P22.0', '758850', '758.380', 'Q96.0;', 'Q38.5', 'Q393', 'Q640', 'Q44.7', 'Q319', 'Q43.1', 'Q666', 'Q17.9', 'yes skin', '755005', 'K76.9', 'Q0703', 'Q68.1', 'Q66.89', 'Q75.9', 'Z38.00', 'Q66. 9', 'I89.8', 'Q22.8', 'Q5561', 'Q16.1', 'Q23.1', 'Q5529', 'I78.1', 'yes muskuloskeletal', 'Q220', 'Q54.2', 'Q6232', 'Q75.0', 'Q222', 'D801', 'H35.109', 'Q52.9', 'Q261', '785.2', 'P236', 'K00.6', 'Q23.0', 'Q251', 'P528', 'P04.9', 'Q93.5', '756065', 'Q41.2', 'Q792', 'G4090', 'Q000', 'G319', '756616', 'Q2545', 'Q046', 'Q90.9', 'Q999', 'E2749', 'Q24.8', 'Q66.4', 'yes chromosomal', 'Q61.3', '745110', 'Q60.1', 'Q05.9', '755130', 'Q165', 'Q07.01', 'Q36.9', 'Q5313', 'Q6632', 'Q9388', 'R17', 'Q10.5', 'G4089', 'P548', 'Q38.3', 'q27.0', 'Q89.8', 'Q00.0', 'D580', 'Q5310', '752607', 'Q105', 'R99', 'Q638', 'I07.1', 'Q909', 'Q646', 'Q753', 'Q34.8', 'Q22.1', 'Q21.3', 'K4090', '752606', 'Q54.1', 'Q917', 'Q25.46', '756170', 'Q24.5', '756700', 'Q447']\n"
     ]
    }
   ],
   "source": [
    "# Get a list of all unique ICD-10 codes in the dataset\n",
    "# A quick look at this list will inform whether additional cleaning steps need to be added to the steps below\n",
    "\n",
    "print(data.bg_icd.unique().tolist())"
   ]
  },
  {
   "cell_type": "markdown",
   "id": "9388ab3c",
   "metadata": {},
   "source": [
    "The cell below conducts basic cleaning on the bg_icd field to match to the Q codes in the reference list. With each new quarterly data import, check to see if any additional cleaning steps are needed, such as additional punctuation or other values that don't belong. \\\n",
    "\\\n",
    "The goal is to match as many ICD codes to the reference list as possible, since the remaining text cleaning and matching processes are more prone to error and misclassification."
   ]
  },
  {
   "cell_type": "code",
   "execution_count": 28,
   "id": "73c2d848",
   "metadata": {},
   "outputs": [
    {
     "data": {
      "text/html": [
       "<div>\n",
       "<style scoped>\n",
       "    .dataframe tbody tr th:only-of-type {\n",
       "        vertical-align: middle;\n",
       "    }\n",
       "\n",
       "    .dataframe tbody tr th {\n",
       "        vertical-align: top;\n",
       "    }\n",
       "\n",
       "    .dataframe thead th {\n",
       "        text-align: right;\n",
       "    }\n",
       "</style>\n",
       "<table border=\"1\" class=\"dataframe\">\n",
       "  <thead>\n",
       "    <tr style=\"text-align: right;\">\n",
       "      <th></th>\n",
       "      <th>ID</th>\n",
       "      <th>ICD</th>\n",
       "      <th>bg_icd</th>\n",
       "      <th>bg_icd_sp</th>\n",
       "    </tr>\n",
       "  </thead>\n",
       "  <tbody>\n",
       "    <tr>\n",
       "      <th>0</th>\n",
       "      <td>1</td>\n",
       "      <td>Q826</td>\n",
       "      <td>Q826</td>\n",
       "      <td>Congenital sacral dimple</td>\n",
       "    </tr>\n",
       "    <tr>\n",
       "      <th>1</th>\n",
       "      <td>2</td>\n",
       "      <td>M952</td>\n",
       "      <td>M95.2</td>\n",
       "      <td>Head, molding noted.</td>\n",
       "    </tr>\n",
       "    <tr>\n",
       "      <th>2</th>\n",
       "      <td>3</td>\n",
       "      <td>751610</td>\n",
       "      <td>751610</td>\n",
       "      <td>Mesothelial liver cyst</td>\n",
       "    </tr>\n",
       "    <tr>\n",
       "      <th>3</th>\n",
       "      <td>4</td>\n",
       "      <td>753410</td>\n",
       "      <td>753410</td>\n",
       "      <td>Right duplex kidney</td>\n",
       "    </tr>\n",
       "    <tr>\n",
       "      <th>4</th>\n",
       "      <td>5</td>\n",
       "      <td>Q540</td>\n",
       "      <td>Q540</td>\n",
       "      <td>Hypospadias, balanic</td>\n",
       "    </tr>\n",
       "    <tr>\n",
       "      <th>...</th>\n",
       "      <td>...</td>\n",
       "      <td>...</td>\n",
       "      <td>...</td>\n",
       "      <td>...</td>\n",
       "    </tr>\n",
       "    <tr>\n",
       "      <th>995</th>\n",
       "      <td>996</td>\n",
       "      <td>Q250</td>\n",
       "      <td>Q250</td>\n",
       "      <td>Patent ductus arteriosus</td>\n",
       "    </tr>\n",
       "    <tr>\n",
       "      <th>996</th>\n",
       "      <td>997</td>\n",
       "      <td>756700</td>\n",
       "      <td>756700</td>\n",
       "      <td>Ruptured omphalocele</td>\n",
       "    </tr>\n",
       "    <tr>\n",
       "      <th>997</th>\n",
       "      <td>998</td>\n",
       "      <td>Q046</td>\n",
       "      <td>Q046</td>\n",
       "      <td>Congenital cerebral cysts</td>\n",
       "    </tr>\n",
       "    <tr>\n",
       "      <th>998</th>\n",
       "      <td>999</td>\n",
       "      <td>Q381</td>\n",
       "      <td>Q38.1</td>\n",
       "      <td>Ankyloglossia</td>\n",
       "    </tr>\n",
       "    <tr>\n",
       "      <th>999</th>\n",
       "      <td>1000</td>\n",
       "      <td>Q447</td>\n",
       "      <td>Q447</td>\n",
       "      <td>Other congenital malformations of liver</td>\n",
       "    </tr>\n",
       "  </tbody>\n",
       "</table>\n",
       "<p>1000 rows × 4 columns</p>\n",
       "</div>"
      ],
      "text/plain": [
       "       ID     ICD  bg_icd                                bg_icd_sp\n",
       "0       1    Q826    Q826                 Congenital sacral dimple\n",
       "1       2    M952   M95.2                     Head, molding noted.\n",
       "2       3  751610  751610                   Mesothelial liver cyst\n",
       "3       4  753410  753410                      Right duplex kidney\n",
       "4       5    Q540    Q540                     Hypospadias, balanic\n",
       "..    ...     ...     ...                                      ...\n",
       "995   996    Q250    Q250                 Patent ductus arteriosus\n",
       "996   997  756700  756700                     Ruptured omphalocele\n",
       "997   998    Q046    Q046                Congenital cerebral cysts\n",
       "998   999    Q381   Q38.1                            Ankyloglossia\n",
       "999  1000    Q447    Q447  Other congenital malformations of liver\n",
       "\n",
       "[1000 rows x 4 columns]"
      ]
     },
     "execution_count": 28,
     "metadata": {},
     "output_type": "execute_result"
    }
   ],
   "source": [
    "# set all codes to uppercase and drop any weird characters from field\n",
    "data['ICD'] = data['bg_icd'].str.upper() \n",
    "remove = ['\\\\.', ' ', ',', ';', ':', '_', '\\\\?', '!', '\\\\(', '\\\\)']\n",
    "\n",
    "\n",
    "for i in remove:\n",
    "    data['ICD'] = data['ICD'].str.replace(i,'',regex=True)\n",
    "\n",
    "data['ICD'] = data['ICD'].replace(\"NONEREPORTED\",np.NaN)\n",
    "\n",
    "data[['ID','ICD','bg_icd','bg_icd_sp']]"
   ]
  },
  {
   "cell_type": "code",
   "execution_count": 29,
   "id": "bd56866b",
   "metadata": {},
   "outputs": [
    {
     "data": {
      "text/html": [
       "<div>\n",
       "<style scoped>\n",
       "    .dataframe tbody tr th:only-of-type {\n",
       "        vertical-align: middle;\n",
       "    }\n",
       "\n",
       "    .dataframe tbody tr th {\n",
       "        vertical-align: top;\n",
       "    }\n",
       "\n",
       "    .dataframe thead th {\n",
       "        text-align: right;\n",
       "    }\n",
       "</style>\n",
       "<table border=\"1\" class=\"dataframe\">\n",
       "  <thead>\n",
       "    <tr style=\"text-align: right;\">\n",
       "      <th></th>\n",
       "      <th>index</th>\n",
       "      <th>ID</th>\n",
       "      <th>bg_icd</th>\n",
       "      <th>bg_icd_sp</th>\n",
       "      <th>ICD</th>\n",
       "    </tr>\n",
       "  </thead>\n",
       "  <tbody>\n",
       "    <tr>\n",
       "      <th>0</th>\n",
       "      <td>0</td>\n",
       "      <td>1</td>\n",
       "      <td>Q826</td>\n",
       "      <td>Congenital sacral dimple</td>\n",
       "      <td>Q826</td>\n",
       "    </tr>\n",
       "    <tr>\n",
       "      <th>1</th>\n",
       "      <td>1</td>\n",
       "      <td>2</td>\n",
       "      <td>M95.2</td>\n",
       "      <td>Head, molding noted.</td>\n",
       "      <td>M952</td>\n",
       "    </tr>\n",
       "    <tr>\n",
       "      <th>2</th>\n",
       "      <td>2</td>\n",
       "      <td>3</td>\n",
       "      <td>751610</td>\n",
       "      <td>Mesothelial liver cyst</td>\n",
       "      <td>751610</td>\n",
       "    </tr>\n",
       "    <tr>\n",
       "      <th>3</th>\n",
       "      <td>3</td>\n",
       "      <td>4</td>\n",
       "      <td>753410</td>\n",
       "      <td>Right duplex kidney</td>\n",
       "      <td>753410</td>\n",
       "    </tr>\n",
       "    <tr>\n",
       "      <th>4</th>\n",
       "      <td>4</td>\n",
       "      <td>5</td>\n",
       "      <td>Q540</td>\n",
       "      <td>Hypospadias, balanic</td>\n",
       "      <td>Q540</td>\n",
       "    </tr>\n",
       "    <tr>\n",
       "      <th>...</th>\n",
       "      <td>...</td>\n",
       "      <td>...</td>\n",
       "      <td>...</td>\n",
       "      <td>...</td>\n",
       "      <td>...</td>\n",
       "    </tr>\n",
       "    <tr>\n",
       "      <th>995</th>\n",
       "      <td>995</td>\n",
       "      <td>996</td>\n",
       "      <td>Q250</td>\n",
       "      <td>Patent ductus arteriosus</td>\n",
       "      <td>Q250</td>\n",
       "    </tr>\n",
       "    <tr>\n",
       "      <th>996</th>\n",
       "      <td>996</td>\n",
       "      <td>997</td>\n",
       "      <td>756700</td>\n",
       "      <td>Ruptured omphalocele</td>\n",
       "      <td>756700</td>\n",
       "    </tr>\n",
       "    <tr>\n",
       "      <th>997</th>\n",
       "      <td>997</td>\n",
       "      <td>998</td>\n",
       "      <td>Q046</td>\n",
       "      <td>Congenital cerebral cysts</td>\n",
       "      <td>Q046</td>\n",
       "    </tr>\n",
       "    <tr>\n",
       "      <th>998</th>\n",
       "      <td>998</td>\n",
       "      <td>999</td>\n",
       "      <td>Q38.1</td>\n",
       "      <td>Ankyloglossia</td>\n",
       "      <td>Q381</td>\n",
       "    </tr>\n",
       "    <tr>\n",
       "      <th>999</th>\n",
       "      <td>999</td>\n",
       "      <td>1000</td>\n",
       "      <td>Q447</td>\n",
       "      <td>Other congenital malformations of liver</td>\n",
       "      <td>Q447</td>\n",
       "    </tr>\n",
       "  </tbody>\n",
       "</table>\n",
       "<p>1000 rows × 5 columns</p>\n",
       "</div>"
      ],
      "text/plain": [
       "     index    ID  bg_icd                                bg_icd_sp     ICD\n",
       "0        0     1    Q826                 Congenital sacral dimple    Q826\n",
       "1        1     2   M95.2                     Head, molding noted.    M952\n",
       "2        2     3  751610                   Mesothelial liver cyst  751610\n",
       "3        3     4  753410                      Right duplex kidney  753410\n",
       "4        4     5    Q540                     Hypospadias, balanic    Q540\n",
       "..     ...   ...     ...                                      ...     ...\n",
       "995    995   996    Q250                 Patent ductus arteriosus    Q250\n",
       "996    996   997  756700                     Ruptured omphalocele  756700\n",
       "997    997   998    Q046                Congenital cerebral cysts    Q046\n",
       "998    998   999   Q38.1                            Ankyloglossia    Q381\n",
       "999    999  1000    Q447  Other congenital malformations of liver    Q447\n",
       "\n",
       "[1000 rows x 5 columns]"
      ]
     },
     "execution_count": 29,
     "metadata": {},
     "output_type": "execute_result"
    },
    {
     "name": "stdout",
     "output_type": "stream",
     "text": [
      "<class 'pandas.core.frame.DataFrame'>\n",
      "RangeIndex: 1000 entries, 0 to 999\n",
      "Data columns (total 5 columns):\n",
      " #   Column     Non-Null Count  Dtype \n",
      "---  ------     --------------  ----- \n",
      " 0   index      1000 non-null   int64 \n",
      " 1   ID         1000 non-null   int64 \n",
      " 2   bg_icd     876 non-null    object\n",
      " 3   bg_icd_sp  875 non-null    object\n",
      " 4   ICD        876 non-null    object\n",
      "dtypes: int64(2), object(3)\n",
      "memory usage: 39.2+ KB\n"
     ]
    }
   ],
   "source": [
    "#Restrict the newly cleaned dataset to only those observations that do not have missing ICD or bg_icd_sp\n",
    "\n",
    "data_new = data.loc[(data['ICD'].notnull()) & (data['ICD'] != \"\") | (data['bg_icd_sp'].notnull()), :].reset_index().copy()\n",
    "data_new\n",
    "data_new.info()"
   ]
  },
  {
   "cell_type": "code",
   "execution_count": 30,
   "id": "dfb02e7f",
   "metadata": {},
   "outputs": [
    {
     "data": {
      "text/plain": [
       "index          0\n",
       "ID             0\n",
       "bg_icd       124\n",
       "bg_icd_sp    125\n",
       "ICD          124\n",
       "dtype: int64"
      ]
     },
     "execution_count": 30,
     "metadata": {},
     "output_type": "execute_result"
    }
   ],
   "source": [
    "data_new.isnull().sum()"
   ]
  },
  {
   "cell_type": "markdown",
   "id": "100743c7",
   "metadata": {},
   "source": [
    "## Clean bg_icd_sp text\n",
    "\n",
    "Standardize and clean this text to be able to merge with reference text spreadsheet, and for hardcoding below."
   ]
  },
  {
   "cell_type": "code",
   "execution_count": 33,
   "id": "ed5e85a7",
   "metadata": {
    "scrolled": false
   },
   "outputs": [
    {
     "data": {
      "text/plain": [
       "['Congenital sacral dimple',\n",
       " 'Head molding noted',\n",
       " 'Mesothelial liver cyst',\n",
       " 'Right duplex kidney',\n",
       " 'Hypospadias balanic',\n",
       " 'Trisomy 21 nonmosaicism meiotic nondisjunction',\n",
       " 'Small apical anterior muscular ventricular septal defect measuring 2mm with bidirectional shunting',\n",
       " 'gastroschisis',\n",
       " 'Ankyloglossia',\n",
       " 'Polydactyly unspecified',\n",
       " 'Trivial patent ductus arteriosus',\n",
       " nan,\n",
       " 'Patent ductus ateriosus',\n",
       " 'microcephaly',\n",
       " 'Small PDA',\n",
       " 'gastroschisis',\n",
       " 'Intraventricular hemorrhage grade 1 of newborn',\n",
       " 'Ankyloglossia',\n",
       " 'Potter syndrome',\n",
       " 'Congenital insufficiency of aortic valve',\n",
       " 'congenital glaucoma right eye',\n",
       " 'Congenital hydronephrosis',\n",
       " 'Neutropenia unspecified',\n",
       " 'Small apical muscular ventricular septal defect VSD',\n",
       " 'Intraventricular hemorrhage grade 1 of newborn',\n",
       " 'ATRIAL SEPTAL DEFECT',\n",
       " 'Other specified congenital malformations of intestine',\n",
       " 'Congenital absence and hypoplasia of umbilical artery',\n",
       " 'Mongolian Spots',\n",
       " 'Congenital Diaphragmatic Hernia',\n",
       " 'Congenital scoliosis due to congenital bony malformation',\n",
       " 'congenital dermal melancytosis buttocks ',\n",
       " 'gastroschisis',\n",
       " 'Other specified congenital malformations of skin',\n",
       " 'Elevated white blood cell count',\n",
       " 'Congenital laryngomalacia',\n",
       " 'left unilateral cleft lip and palate',\n",
       " 'Patent ductus arteriosus',\n",
       " 'Other congenital viral diseases',\n",
       " nan,\n",
       " 'Intestinal malrotation',\n",
       " 'Patent ductus arteriosus',\n",
       " 'trivial midmuscular VSD noted on subcostal views LR shunt',\n",
       " 'PFO',\n",
       " 'Trisomy 18 nonmosaicism meiotic nondisjunction',\n",
       " 'Mild Hyrdronephrosis',\n",
       " 'Outwardly rotated ears',\n",
       " nan,\n",
       " 'Atrial septal defect',\n",
       " 'Ventricular septal defect',\n",
       " 'Right side pre-auricular skin tags',\n",
       " 'Hypospadias unspecified',\n",
       " 'Acidosis',\n",
       " 'Webbing of second and third toes bilaterally',\n",
       " 'Patent ductus arteriosus',\n",
       " 'Atrial septal defect',\n",
       " nan,\n",
       " nan,\n",
       " 'XYY chromosomes',\n",
       " 'atrial septal defect',\n",
       " 'Congenital non-neoplastic nevus',\n",
       " 'cleft palate hard and soft',\n",
       " 'Ventricular septal defect',\n",
       " 'Hidden penis',\n",
       " 'Other specified congenital malformations of intestine',\n",
       " 'A smallmedium sized apical muscular VSD w/ LR shunting Estimated peak systolic pressure gradients are 3134mmHg',\n",
       " 'Congenital absence atresia and stenosis of jejunum',\n",
       " 'Ebstein anomaly of tricuspid valve',\n",
       " 'CYSTIC HYGROMA PER FDC',\n",
       " 'Ventricular septal defect',\n",
       " 'Lower frenulum ankyloglossia',\n",
       " 'Slate gray macule over lower back',\n",
       " 'PFO',\n",
       " 'Suspected Chromosomal Disorder - Karotype Pending',\n",
       " 'Other disorders of psychological development',\n",
       " 'LOW SET EARS',\n",
       " 'Ankyloglossia',\n",
       " 'Renal agenesis unilateral',\n",
       " 'Mongolian spot',\n",
       " ' Congenital dysplasia of the hip',\n",
       " 'Ventricular septal defect',\n",
       " 'Hypertelorism',\n",
       " 'Tetralogy of Fallot',\n",
       " 'Other congenital malformation of penis',\n",
       " 'Atrioventricular septal defect AVSD Atrioventricular septal   defect',\n",
       " nan,\n",
       " nan,\n",
       " 'Ankyloglossia',\n",
       " 'PFO left to right shunt',\n",
       " 'Congenital malformations of palate not elsewhere classified',\n",
       " 'Congenital hydronephrosis',\n",
       " 'Congenital cystic lung',\n",
       " 'Congenital laryngomalacia',\n",
       " 'Other specified congenital deformities of hip',\n",
       " 'Developmental ovarian cyst',\n",
       " 'Congenital hydronephrosis',\n",
       " 'congenital imperforate anus',\n",
       " 'Trisomy 13 unspecified',\n",
       " 'abnormal left alpha angle recommend orthopedic result',\n",
       " 'Polydactyly unspecified',\n",
       " nan,\n",
       " 'VSD',\n",
       " 'Congenital deformity of hip unspecified',\n",
       " 'Patent ductus arteriosus',\n",
       " nan,\n",
       " nan,\n",
       " 'Moderate size hiatal hernia',\n",
       " 'Other specified congenital malformations of brain',\n",
       " nan,\n",
       " 'Umbilical hernia without obstruction or gangrene',\n",
       " 'Gastroschisis',\n",
       " nan,\n",
       " 'right grade 3 microtia left grade 1 microtia',\n",
       " 'Hypospadias unspecified',\n",
       " 'Mongolian spot on sacrum',\n",
       " 'Acidosis',\n",
       " 'Lumbosacral lipomyelomeningocele closed',\n",
       " 'mild hypospadias',\n",
       " nan,\n",
       " 'Hypospadias penile',\n",
       " 'Mongolian spot on buttocks',\n",
       " 'Patent Ductus Arteriosus',\n",
       " 'very subtle microform cleft lip on the right',\n",
       " 'ATRIAL SEPTAL DEFECT',\n",
       " 'mild dilated renal pelvis',\n",
       " 'Ventricular septal defect',\n",
       " 'Congenital scoliosis due to congenital bony malformation',\n",
       " 'KLINEFELTER SYNDROME XXY',\n",
       " 'buried penis',\n",
       " 'Oth congenital malform of spine not associated w scoliosis',\n",
       " 'fetal cardiac anomaly affecting pregnancy antepartum',\n",
       " 'Omphalocele',\n",
       " 'Patent ductus arteriosus',\n",
       " 'accessory finger',\n",
       " 'Congenital scoliosis due to congenital bony malformation',\n",
       " 'Head/Neck Nuchal fold',\n",
       " 'Moderate Laryngomalacia congenital',\n",
       " 'Unspecified adrenocortical insufficiency',\n",
       " 'Congenital sacral dimple',\n",
       " nan,\n",
       " 'congenital diaphragmatic hernia',\n",
       " 'Congenital sacral dimple',\n",
       " 'Large for gestational age',\n",
       " 'Hypospadias penile',\n",
       " 'Congenital chordee',\n",
       " 'Sepsis of newborn due to Staphylococcus aureus',\n",
       " 'Nasal sebaceous hyperplasia',\n",
       " 'Congenital absence and hypoplasia of umbilical artery',\n",
       " 'Down Syndrome - Karotype Pending',\n",
       " 'Other specified congenital malformations of skin',\n",
       " 'Congenital malformation syndromes predom involving limbs',\n",
       " 'slate grey spots on bottom',\n",
       " 'Congenital cataract',\n",
       " 'Stenosis of pulmonary artery',\n",
       " 'mild left sided hydronephrosis',\n",
       " 'RENAL AGENESIS LEFT',\n",
       " 'CongenitalHernia',\n",
       " 'Atrial septal defect',\n",
       " 'Molding +',\n",
       " nan,\n",
       " 'Syndrome of infant of mother with gestational diabetes',\n",
       " 'NEONATAL BRADYCARDIA',\n",
       " 'PERIMEMBRANOUS VENTRICULAR SEPTAL DEFECT',\n",
       " nan,\n",
       " 'Microcephaly',\n",
       " 'two small muscular ventricular septal defects',\n",
       " nan,\n",
       " 'coronal hypospadias and chordee',\n",
       " 'Other specified congenital malformations of skin',\n",
       " 'Hypoplastic left heart syndrome',\n",
       " 'DYSMORPHIC FEATURES AS ABOVE CONSISTENT WITH DOWN SYNDROME',\n",
       " 'Preauricular sinus and cyst',\n",
       " 'Oth congenital malform of spine not associated w scoliosis',\n",
       " 'trisomy 18',\n",
       " 'Vertebral segmentation anomalies in lumbo-sacral spine',\n",
       " nan,\n",
       " 'Penile Torsion',\n",
       " 'Plantar Skin Creases',\n",
       " nan,\n",
       " 'Patent ductus arteriosus',\n",
       " 'Atrial septal defect',\n",
       " nan,\n",
       " 'Microtia',\n",
       " 'Molding of the head',\n",
       " 'Oth congenital malform of spine not associated w scoliosis',\n",
       " nan,\n",
       " 'Oth congenital malform of spine not associated w scoliosis',\n",
       " nan,\n",
       " 'Other congenital malformations of aorta',\n",
       " 'Polydactyly unspecified',\n",
       " 'Hidden penis',\n",
       " 'Respiratory distress syndrome of newborn',\n",
       " 'ILEAL ATRESIA WITH VOLVULUS',\n",
       " nan,\n",
       " 'Congenital malformations of other endocrine glands',\n",
       " nan,\n",
       " nan,\n",
       " 'Atrial septal defect',\n",
       " 'Other specified congenital deformities of feet',\n",
       " 'Atresia of bile ducts',\n",
       " nan,\n",
       " 'Flattened nasal bridge Nares patent',\n",
       " 'Newborn affected by oth placental separation and hemorrhage',\n",
       " 'Small blind ending dimple',\n",
       " nan,\n",
       " 'd- transposition of the great vessels with membranous ventricular septal defect',\n",
       " 'Atrial septal defect',\n",
       " 'posterior urethral valves',\n",
       " 'Oth congenital malformations of male genital organs',\n",
       " 'Other atresia of aorta',\n",
       " 'Ankyloglossia',\n",
       " nan,\n",
       " 'Other specified congenital deformities of hip',\n",
       " 'Marfans syndrome unspecified',\n",
       " 'mild left sided torticollis',\n",
       " 'glanular hypospadias',\n",
       " 'Congenital sacral dimple',\n",
       " 'Atresia of esophagus without fistula',\n",
       " 'Hidden penis',\n",
       " nan,\n",
       " 'Other congenital viral diseases',\n",
       " 'Ventricular septal defect',\n",
       " 'Retractile testis',\n",
       " 'Capillary hemangioma on the nasal entrance on the right',\n",
       " 'Congenital non-neoplastic nevus',\n",
       " 'congenital sacral dimple',\n",
       " 'Intraventricular hemorrhage grade 2 of newborn',\n",
       " 'Renal agenesis unilateral',\n",
       " 'Congenital tracheomalacia',\n",
       " 'Congenital absence and hypoplasia of umbilical artery',\n",
       " 'Other disorders of bilirubin metabolism',\n",
       " 'DOUBLE RIGHT KIDNEY',\n",
       " 'Down syndrome',\n",
       " 'Klinefelter syndrome karyotype 47XXY',\n",
       " 'ankyloglossia',\n",
       " 'Ankyloglossia',\n",
       " 'Dilated urethra',\n",
       " 'Congenital malformations of lips not elsewhere classified',\n",
       " 'Alkalosis',\n",
       " 'veau i cleft soft palate',\n",
       " 'Patent ductus arteriosus',\n",
       " 'Mild microstomia',\n",
       " 'coarctation of the aorta',\n",
       " 'Congenital sacral dimple',\n",
       " 'Atrial septal defect',\n",
       " 'Suspected Chromosomal Disorder - Karotype Pending',\n",
       " 'Patent ductus arteriosus',\n",
       " 'Hypoplasia of aorta',\n",
       " 'Hypoplastic left heart syndrome',\n",
       " 'hypospadias',\n",
       " 'Duplications with other complex rearrangements',\n",
       " 'Mongolian Spots on buttocks',\n",
       " nan,\n",
       " nan,\n",
       " 'seizures',\n",
       " 'Other specified congenital malformations of skin',\n",
       " 'Mongolian Spots to eyelids',\n",
       " 'Other specified congenital deformities of feet',\n",
       " 'congenital heart defect Tetralogy of fallot with mild-moderate subpulmonic narrowing on prenatal ECHO',\n",
       " 'Cranial molding is present',\n",
       " 'Indeterminate sex unspecified',\n",
       " 'Congenital mitral stenosis',\n",
       " 'Newborn affected by oth placental separation and hemorrhage',\n",
       " 'Molding of the head',\n",
       " 'Other specified congenital malformations of integument',\n",
       " nan,\n",
       " 'Intraventricular hemorrhage grade 1 of newborn',\n",
       " 'Birthmarks Stork Bite',\n",
       " nan,\n",
       " 'PDA',\n",
       " 'Atrial septal defect',\n",
       " 'Patent ductus arteriosus',\n",
       " 'Ankyloglossia',\n",
       " nan,\n",
       " 'Atrial septal defect',\n",
       " 'Patent ductus arteriosus',\n",
       " 'Atrial septal defect',\n",
       " 'encephalomalacia',\n",
       " 'Hirschsprungs disease',\n",
       " 'Other specified trisomies and partial trisomies of autosomes',\n",
       " 'trivial muscular ventricular septal defect',\n",
       " 'Accessory kidney',\n",
       " 'Hemangioma flammeus',\n",
       " 'Congenital non-neoplastic nevus',\n",
       " 'Hidden penis',\n",
       " 'Stillbirth',\n",
       " 'Other congenital malformations of testis and scrotum',\n",
       " 'Atresia of pulmonary artery',\n",
       " 'Congenital malformation of musculoskeletal system unsp',\n",
       " 'Atrial septal defect',\n",
       " 'Congenital chordee',\n",
       " 'Ectopic kidney',\n",
       " 'Mongolian spot on buttocks',\n",
       " 'Patent ductus arteriosus',\n",
       " 'Mild in-toeing of bilateral feet but easily manipulated',\n",
       " 'Epileptic spasms',\n",
       " 'Unspecified cleft palate with unilateral cleft lip',\n",
       " 'Congenital partial dislocation of left hip unilateral',\n",
       " 'Ankyloglossia',\n",
       " 'Physiologic phimosis',\n",
       " nan,\n",
       " 'laryngomalacia',\n",
       " 'unilateral left cleft lip and palate',\n",
       " 'Occipital encephalocele',\n",
       " 'unilateral inguinal testis',\n",
       " nan,\n",
       " 'Congenital hydronephrosis',\n",
       " 'Hypospadias penoscrotal - penoscrotal fusion',\n",
       " 'Congenital maxillary lip tie',\n",
       " 'Mongolian Spots on buttocks',\n",
       " 'CYSTIC HYGROMA PER FDC',\n",
       " 'VENTRAL SEPTAL DEFECT',\n",
       " 'Congenital sacral dimple',\n",
       " 'Mongolian spots',\n",
       " 'Cleft lip unilateral',\n",
       " 'undescended right testicle',\n",
       " 'Other specified congenital malformations of integument',\n",
       " 'Thick frenulum noted posteriorly with some limitation of movement',\n",
       " 'Additional muscular ventricular septal defect',\n",
       " 'Congenital laryngomalacia',\n",
       " 'Congenital torsion of penis',\n",
       " 'Sickle-cell trait',\n",
       " 'Congenital sacral dimple',\n",
       " 'Hypospadias',\n",
       " 'Congenital laryngomalacia',\n",
       " 'Double inlet ventricle',\n",
       " 'Duplication of ureter',\n",
       " 'Mongolian spot on buttocks',\n",
       " 'two irregular flat nevi on back of right shoulder',\n",
       " 'Plagiocephaly',\n",
       " 'Congenital talipes equinovarus',\n",
       " nan,\n",
       " nan,\n",
       " 'Atrial septal defect',\n",
       " 'Stork bites on both eyelids and nape of neck',\n",
       " 'Large Ovale Right Parietal Nevus 3cm x 3cm with Peripheral Well Demarcated Erythematous Ring That is About 4cm x 5 cm',\n",
       " 'PFO',\n",
       " 'Atrial septal defect',\n",
       " 'Patent Foramen Ovale',\n",
       " 'Congenital pulmonary valve stenosis',\n",
       " 'Esophageal atresia TE Fistula',\n",
       " 'VSD vs AV canal',\n",
       " 'Congenital diaphragmatic hernia',\n",
       " 'Craniosynostosis',\n",
       " 'Oth congenital malform of spine not associated w scoliosis',\n",
       " 'Newborn aff by oth & unsp morpholog and functn abnlt of placenta',\n",
       " 'Agranulocytosis secondary to cancer chemotherapy',\n",
       " 'Molding',\n",
       " 'Hypospadias unspecified',\n",
       " 'congenital ankyloglossia',\n",
       " 'hip held at strange angle 90 degrees to torso sticking straight out laterally',\n",
       " nan,\n",
       " nan,\n",
       " 'Microcephaly',\n",
       " 'Hypospadias penile',\n",
       " 'sacral mongolian spots',\n",
       " 'Uncircumcised penis',\n",
       " 'i l i mirror image dextrocardia situs inversus totalis',\n",
       " 'Mongolian spots',\n",
       " 'Oth congenital malform of spine not associated w scoliosis',\n",
       " 'Congenital cerebral cysts',\n",
       " 'stork bite bilaterally and on the nape of the neck',\n",
       " 'small 1mm muscular ventricular septal defect',\n",
       " 'Ectopic kidney',\n",
       " 'maple syrup urine disease',\n",
       " 'Mongolian Spot Location Buttocks',\n",
       " 'patent ductus arteriosus',\n",
       " 'Ventricular septal defect',\n",
       " 'Caput succedaneum',\n",
       " 'hypoplasia of right thumb',\n",
       " 'Renal agenesis unilateral',\n",
       " 'Congenital scoliosis due to congenital bony malformation',\n",
       " 'Congenital anomaly unspecified',\n",
       " 'Mongolian spots on buttocks and upper back',\n",
       " 'Other specified congenital malformations of brain',\n",
       " 'moderate to large 5mm membranous ventricular septal defect',\n",
       " 'Patent ductus arteriosus',\n",
       " 'right aortic arch',\n",
       " 'Other congenital malformation of penis',\n",
       " 'VSD',\n",
       " 'Limb Reduction Defect',\n",
       " 'Smallmedium sized mid septal muscular VSD w/ LR shunting Estimated peak systolic pressure gradients are up to 28mmHg',\n",
       " 'congenital hydronephrosis',\n",
       " nan,\n",
       " 'Mild pectus exavatum',\n",
       " 'Choanal atresia',\n",
       " 'Homocystinuria',\n",
       " 'Congenital pneumonia unspecified',\n",
       " 'Congenital chordee',\n",
       " 'HYPOPLASTIC LT HEART WITH HYPOPLASTIC LT VENTRICLE HYPOPLASTIC ASCENDING AORTA SMALL VENTRICULAR CHAMBER',\n",
       " 'moderate secundum atrial septal defect',\n",
       " 'Other specified congenital malformations of skin',\n",
       " 'Hypospadias unspecified',\n",
       " 'Congenital ankyloglossia ',\n",
       " 'D8482',\n",
       " 'Indeterminate sex unspecified',\n",
       " 'Atresia of bile ducts',\n",
       " 'Lobulated fused and horseshoe kidney',\n",
       " 'left testicular torsion',\n",
       " 'Other specified congenital malformations of heart',\n",
       " nan,\n",
       " nan,\n",
       " 'Atrial septal defect',\n",
       " nan,\n",
       " 'Umbilical hernia without obstruction or gangrene',\n",
       " 'Congenital absence and hypoplasia of umbilical artery',\n",
       " nan,\n",
       " 'Two small muscular ventricular septal defects',\n",
       " 'small 4mm high secundum atrial septal defect',\n",
       " 'Congenital metatarsus adductus',\n",
       " 'Right accessory tragus',\n",
       " nan,\n",
       " 'Hypospadias balanic',\n",
       " 'Caput Succedaneum',\n",
       " 'Stenosis of pulmonary artery',\n",
       " 'Atrio Ventricular Canal AV canal with common ventricle and severe PS',\n",
       " 'Congenital absence and hypoplasia of umbilical artery',\n",
       " 'Newborn affected by maternal use of opiates',\n",
       " nan,\n",
       " 'Atrioventricular septal defect',\n",
       " 'Accessory kidney',\n",
       " 'bilateral hip dysplasia',\n",
       " 'Cleft lip unilateral',\n",
       " 'polydactyle of finger',\n",
       " 'large omphalocele containg both liver and bowel contents',\n",
       " nan,\n",
       " nan,\n",
       " 'Hypo-osmolality and hyponatremia',\n",
       " 'There is an interatrial shunt that is associated w/ either a large PFO or a small secundum ASD The interatrial shunt is LR',\n",
       " 'Umbilical hernia without obstruction or gangrene',\n",
       " 'POLYDACTYLY',\n",
       " 'Congenital chordee',\n",
       " 'Congenital sacral dimple',\n",
       " 'Cleft palate unspecified',\n",
       " 'Newborn affected by maternal infec/parastc diseases',\n",
       " 'Acidosis',\n",
       " 'Congenital sacral dimple',\n",
       " 'Congenital pneumonia unspecified',\n",
       " 'Other specified congenital malformations of kidney',\n",
       " 'Venolumphatic/ lymphatic malformation',\n",
       " 'neonatal abstinence syndrome',\n",
       " 'Congenital chordee',\n",
       " 'Thalassemia minor',\n",
       " 'VSD',\n",
       " 'left congenital diaphragmatic hernia',\n",
       " 'Atrial septal defect',\n",
       " 'coronal hypospadias',\n",
       " 'Stenosis of pulmonary artery',\n",
       " 'Congenital absence and hypoplasia of umbilical artery',\n",
       " 'Intraventricular hemorrhage grade 1 of newborn',\n",
       " 'Ventricular septal defect',\n",
       " 'Respiratory failure of newborn',\n",
       " 'Other congenital malformations of tricuspid valve',\n",
       " 'Other specified congenital musculoskeletal deformities',\n",
       " 'Left preauricular ear pit',\n",
       " 'Early congenital syphilis unspecified',\n",
       " 'Caput present',\n",
       " nan,\n",
       " 'Pectus excavatum',\n",
       " 'Other specified congenital deformities of feet',\n",
       " 'Patent foramen ovale',\n",
       " 'Accessory auricle',\n",
       " 'right dominant double aortic arch no coarctation moderate tortuous ductus possible ductal diverticulum trileaflet but functionally bicupsid aortic valve with no stenosis',\n",
       " 'S3S4 partial fusion',\n",
       " 'Hypoplasia of aorta',\n",
       " 'TINY MID MUSCULAR VSD',\n",
       " 'Achondroplasia',\n",
       " 'Sacral congenital dermal melanocytosis',\n",
       " 'Congen malform syndromes predom affecting facial appearance',\n",
       " 'Craniosynostosis',\n",
       " nan,\n",
       " 'Cleft glans penis with no urethral opening',\n",
       " 'HeartDisease',\n",
       " 'Intraventricular hemorrhage grade 4 of newborn',\n",
       " nan,\n",
       " 'Congenital ankyloglossia',\n",
       " 'Craniosynostosis',\n",
       " 'Unspecified cleft palate with unilateral cleft lip',\n",
       " 'left congenital hydronephrosis',\n",
       " 'no foot abnormalities extra digit bilaterallynubbin connected by stalk appears to be only flesh/skin not bone',\n",
       " nan,\n",
       " 'Arnold-Chiari syndrome with spina bifida and hydrocephalus',\n",
       " nan,\n",
       " nan,\n",
       " 'Atrial septal defect',\n",
       " nan,\n",
       " nan,\n",
       " nan,\n",
       " 'Congenital absence and hypoplasia of umbilical artery',\n",
       " 'TTE after birth showed large PDA and PFO',\n",
       " 'Congenital hydronephrosis',\n",
       " nan,\n",
       " 'Veau I cleft soft palate',\n",
       " 'Cleft palate unspecified',\n",
       " 'Cor triatriatum',\n",
       " 'Atrial septal defect',\n",
       " nan,\n",
       " 'Congenital non-neoplastic nevus',\n",
       " 'Uncircumcised penis',\n",
       " 'A congenital birth defect characterized by the exposure of the fetal intestines outside the abdominal wall through an abdominal wall opening',\n",
       " 'Tuberous sclerosis',\n",
       " 'sacral dimple',\n",
       " 'Congenital Hypertrophic pyloric stenosis ',\n",
       " 'Other congenital malformations of testis and scrotum',\n",
       " 'Congenital sacral dimple',\n",
       " 'glanular hypospadias',\n",
       " '13 ribs on R side',\n",
       " nan,\n",
       " nan,\n",
       " 'Oth congen malform of upper limbs inc shoulder girdle',\n",
       " 'Gastroschisis',\n",
       " 'pulmonary valve stenosis',\n",
       " 'POLYMICROGYRIA DETERMINED BY MAGNETIC RESONANCE IMAGING',\n",
       " 'Other congenital malformations of great veins',\n",
       " 'Hypospadias unspecified',\n",
       " 'Mild hypospadias',\n",
       " 'Hypokalemia',\n",
       " 'mild hypospadias megameatus',\n",
       " 'Congenital facial asymmetry',\n",
       " 'Other dystonia',\n",
       " 'Other congenital malformations of abdominal wall',\n",
       " 'Patent ductus arteriosus',\n",
       " 'Pulmonary valve atresia',\n",
       " 'Congenital cardiac anomaly Tetralogy of Fallot',\n",
       " 'Congenital vesico-uretero-renal reflux',\n",
       " 'Plagiocephaly',\n",
       " 'Ectopic kidney',\n",
       " 'Patent ductus arteriosus',\n",
       " 'Two vessel cord',\n",
       " nan,\n",
       " 'Congenital chordee',\n",
       " 'Renal agenesis unilateral',\n",
       " nan,\n",
       " nan,\n",
       " 'Congenital mitral insufficiency',\n",
       " 'Congenital sacral dimple',\n",
       " 'Hypospadias unspecified',\n",
       " 'Other specified congenital malformations of skin',\n",
       " 'Patent foramen ovale',\n",
       " 'Congenital laryngomalacia',\n",
       " 'Atresia of esophagus with tracheo-esophageal fistula',\n",
       " 'Discordant ventriculoarterial connection',\n",
       " 'Congenital sacral dimple',\n",
       " 'Bilateral Superior Venae Cavae',\n",
       " 'Ventricular septal defect',\n",
       " 'Patent ductus arteriosus',\n",
       " 'Mongolian spot on sacral area',\n",
       " 'Congenital malformation of skull and face bones unspecified',\n",
       " 'Small mid-muscular VSD',\n",
       " nan,\n",
       " 'Congenital sacral dimple',\n",
       " 'PFO',\n",
       " 'Congenital laryngomalacia',\n",
       " 'very small PDA continuous left to right shunt',\n",
       " 'Detection of developmental dysplasia of left hip based on persistent positive Ortolani maneuver',\n",
       " 'Ventricular septal defect',\n",
       " nan,\n",
       " 'History of exposure to methamphetamine in utero At high risk for developmental delay At risk for anemia',\n",
       " 'nasal lacrimal duct cyst',\n",
       " 'Atrial septal defect',\n",
       " 'Congenital laryngomalacia',\n",
       " 'Atrial septal defect',\n",
       " 'Hypo-osmolality and hyponatremia',\n",
       " 'Pulmonary Hypoplasia',\n",
       " 'Cleft palate unspecified',\n",
       " 'either b/l multicystic dysplastic kidney or cystic dysplasia',\n",
       " 'Congenital non-neoplastic nevus',\n",
       " 'Intraventricular hemorrhage grade 1 of newborn',\n",
       " 'Mild sacral dimple',\n",
       " nan,\n",
       " 'Hypospadias unspecified',\n",
       " 'Plagiocephaly',\n",
       " 'Hyperplastic and giant kidney',\n",
       " 'Undescended right testicle',\n",
       " nan,\n",
       " 'Small-to-moderate 4 mm basal muscular ventricular septal defect',\n",
       " 'Congenital scoliosis due to congenital bony malformation',\n",
       " 'Muscular ventricular septal defect',\n",
       " 'Atrial septal defect',\n",
       " 'small-to-moderate 4 mm basal muscular ventricular septal defect',\n",
       " 'Congen malform syndromes predom affecting facial appearance',\n",
       " 'Oth congenital malformations of peripheral vascular system',\n",
       " 'Congenital laryngomalacia',\n",
       " 'Small Patent Foramen Ovale PFO',\n",
       " 'Plagiocephaly  - mild positional plagiocephaly',\n",
       " 'Bilateral right larger than left open-lip schizencephalic clefts  involving the frontal and temporal',\n",
       " nan,\n",
       " 'Renal dysplasia',\n",
       " 'Sickle-cell disease without crisis',\n",
       " 'trisomy 21',\n",
       " 'Congenital cytomegalovirus infection',\n",
       " nan,\n",
       " 'Congenital hydronephrosis',\n",
       " nan,\n",
       " 'Hypokalemia',\n",
       " 'Cleft palate unspecified',\n",
       " nan,\n",
       " nan,\n",
       " 'Acidosis',\n",
       " 'Dolichocephaly',\n",
       " 'Congenital sacral dimple',\n",
       " 'Deformity of both feet talipus equinovarus',\n",
       " 'Caput Succedaneum',\n",
       " 'SMALL MUSCULAR VSD',\n",
       " 'Patent ductus arteriosus',\n",
       " 'sacral dimple with base visualized',\n",
       " 'Congenital cerebral cysts',\n",
       " nan,\n",
       " 'LEFT CLEFT LIP AND PALATE NOS',\n",
       " 'Lingual frenulum slightly short',\n",
       " 'Congenital dislocation of hip unspecified',\n",
       " 'Positive de novo pathogenic variant in exon 46 of the COL4A1  c4031 G>A pGly1344AspGGT>GAT',\n",
       " 'Atrial septal defect',\n",
       " 'Congenital sacral dimple',\n",
       " 'PFO patent foramen ovale',\n",
       " 'Congenital diaphragmatic hernia',\n",
       " 'Patent foramen ovale',\n",
       " 'Umbilical hernia without obstruction or gangrene',\n",
       " 'Small 1mm muscular ventricular septal defect',\n",
       " 'Right ectopic ureterocele',\n",
       " 'Syndactyly bilateral hands 3rd and 4th digits',\n",
       " 'Uncircumcised Penis',\n",
       " 'Abdominal testis bilateral',\n",
       " 'Congenital malformation of intestine unspecified',\n",
       " 'ATROPHY OF THE CEREBELLUM',\n",
       " 'Patent ductus arteriosus',\n",
       " 'Presacral Dimple',\n",
       " nan,\n",
       " 'Congenital absence and hypoplasia of umbilical artery',\n",
       " 'Very Small Pedunculated Skin Tag Anterior to Right Ear',\n",
       " 'large secundum atrial septal defect',\n",
       " 'Patent Ductus Arteriosus',\n",
       " 'Mild Colpocephaly',\n",
       " 'Malformation of urachus',\n",
       " 'Coarctation of aorta',\n",
       " nan,\n",
       " 'DOWNSDOWN KARYOTYPE PENDING',\n",
       " 'Congenital non-neoplastic nevus',\n",
       " 'Congenital scoliosis due to congenital bony malformation',\n",
       " 'Respiratory distress syndrome in neonate',\n",
       " '47 XXX',\n",
       " 'VARIANT OF UNCERTAIN SIGNIFICANCE VUS COPY NUMBER CHANGE 10P1121 LOSS  SIZE 72 KB',\n",
       " 'Karyotype 45 X',\n",
       " 'Atrial septal defect',\n",
       " 'High-Arched Palate',\n",
       " nan,\n",
       " 'Atrial septal defect',\n",
       " 'Other specified congenital malformations of heart',\n",
       " 'Patent ductus arteriosus',\n",
       " 'Oth congenital malform of spine not associated w scoliosis',\n",
       " 'Congenital stenosis and stricture of esophagus',\n",
       " 'bilateral renal pyelectasis',\n",
       " 'ASD',\n",
       " 'Ectopic kidney',\n",
       " 'Epispadias',\n",
       " 'Other specified congenital deformities of hip',\n",
       " 'Patent ductus arteriosus',\n",
       " 'Hypospadias balanic',\n",
       " 'Congenital laryngomalacia',\n",
       " 'Congenital scoliosis due to congenital bony malformation',\n",
       " 'Mongolian Spots',\n",
       " 'Congenital absence of unspecified hand and finger',\n",
       " nan,\n",
       " 'Ventricular septal defect',\n",
       " 'Congenital pulmonary valve stenosis',\n",
       " 'Other congenital malformations of liver',\n",
       " 'Congenital absence and hypoplasia of umbilical artery',\n",
       " nan,\n",
       " 'nevus flammeus eyelids glabella lateral to nares nape of neck',\n",
       " 'Congenital malformation of larynx unspecified',\n",
       " 'Congenital torsion of penis',\n",
       " nan,\n",
       " 'Congenital hydronephrosis',\n",
       " 'Congenital mitral insufficiency',\n",
       " nan,\n",
       " 'Hirschsprungs disease',\n",
       " 'Atrial septal defect',\n",
       " 'Other congenital valgus deformities of feet',\n",
       " 'Other congenital malformations of tricuspid valve',\n",
       " 'double outlet right ventricle',\n",
       " 'RIGHT EAR MALFORMATION',\n",
       " 'Congen malform syndromes predom affecting facial appearance',\n",
       " 'enlarged bladder',\n",
       " 'Molding of the head',\n",
       " 'Accessory fingers',\n",
       " 'Hypospadias penile',\n",
       " 'Congenital dermal melanocytosis',\n",
       " nan,\n",
       " 'postaxial polydactyly bilateral hands with cartilage',\n",
       " 'Left unilateral cleft lip and palate',\n",
       " 'Cleft palate unspecified',\n",
       " nan,\n",
       " 'Congenital chordee',\n",
       " 'Liver Hematoma',\n",
       " nan,\n",
       " 'Mongolian spot on right hip and over sacrum',\n",
       " 'Arnold-Chiari syndrome with spina bifida and hydrocephalus',\n",
       " 'Congenital hydronephrosis',\n",
       " 'Congenital deformity of fingers and hand',\n",
       " 'Other  specified congenital deformities of feet',\n",
       " 'duplication of left renal collecting system',\n",
       " 'CONGENITAL MALFORMATION OF SKULL AND FACE BONES UNSPECIFIED',\n",
       " 'TEF tracheoesophageal fistula congenital Atresia of esophagus with tracheo-esophageal fistula',\n",
       " 'Term newborn delivered vaginally current hospitalization ',\n",
       " 'Other specified congenital malformations of skin',\n",
       " nan,\n",
       " nan,\n",
       " 'Hypoplastic Heart Syndrome Left',\n",
       " 'positional congenital deformity of foot',\n",
       " 'OTHER SPECIFIED NONINFECTIVE DISORDER OF LYMPHATIC VESSELS AND LYMPH NODES',\n",
       " 'Other congenital malformations of tricuspid valve',\n",
       " 'Hypospadias unspecified',\n",
       " 'Fused palate',\n",
       " 'Curvature of penis lateral',\n",
       " 'undeveloped ear ear canal',\n",
       " 'Other specified congenital deformities of feet',\n",
       " 'Congenital absence and hypoplasia of umbilical artery',\n",
       " 'Congenital bicuspid aortic valve',\n",
       " 'Imperforate anus',\n",
       " 'Other congenital malformations of testis and scrotum',\n",
       " nan,\n",
       " 'Nevus flammeus to globella and nape of neck',\n",
       " 'Other specified congenital malformations of brain',\n",
       " nan,\n",
       " 'Stillbirth',\n",
       " nan,\n",
       " nan,\n",
       " 'Congenital absence and hypoplasia of umbilical artery',\n",
       " 'SMALL ANTERIOR MUSCULAR VSD',\n",
       " 'Atrial septal defect',\n",
       " 'congenital hip/knee abnormality',\n",
       " 'Patent ductus arteriosus',\n",
       " 'Congenital torsion of penis',\n",
       " 'Atrial septal defect',\n",
       " 'Hypo-osmolality and hyponatremia',\n",
       " 'HeartDisease',\n",
       " 'Stenosis of pulmonary artery',\n",
       " nan,\n",
       " 'Sacral Dimple',\n",
       " 'Atrial septal defect',\n",
       " 'Oth congenital malform of spine not associated w scoliosis',\n",
       " 'Congenital torsion of penis',\n",
       " nan,\n",
       " 'Congenital talipes equinovarus',\n",
       " 'Atrial septal defect',\n",
       " 'Penoscrotal web',\n",
       " 'Unspecified adrenocortical insufficiency',\n",
       " 'left congenital diaphragmatic hernia type b',\n",
       " 'Cecoureterocele',\n",
       " 'Congenital scoliosis due to congenital bony malformation',\n",
       " nan,\n",
       " 'Craniosynostosis',\n",
       " 'Atrial septal defect',\n",
       " 'Congenital absence and hypoplasia of umbilical artery',\n",
       " 'Congenital pulmonary valve insufficiency',\n",
       " nan,\n",
       " 'Cleft palate hard and soft',\n",
       " 'Early congenital syphilis unspecified',\n",
       " 'Oth congenital malform of spine not associated w scoliosis',\n",
       " 'Congenital malformations of corpus callosum',\n",
       " 'Congenital torsion of penis',\n",
       " 'Nonfamilial hypogammaglobulinemia',\n",
       " 'Congenital non-neoplastic nevus',\n",
       " 'ankyloglossia',\n",
       " 'Oth congenital malform of spine not associated w scoliosis',\n",
       " 'VSD',\n",
       " 'Persistent left superior vena cava',\n",
       " 'Cleft palate unspecified',\n",
       " 'Retinopathy of prematurity',\n",
       " 'Unil inguinal hernia w/o obst or gangr not spcf as recur',\n",
       " 'Patent ductus arteriosus',\n",
       " nan,\n",
       " 'Hypospadias balanic',\n",
       " nan,\n",
       " 'GU Vaginal adhesion',\n",
       " 'Other specified congenital deformities of feet',\n",
       " 'Persistent left superior vena cava',\n",
       " 'Other congenital viral diseases',\n",
       " 'Heart murmur indentified',\n",
       " 'Congenital chordee',\n",
       " 'mild hypospadias',\n",
       " 'coarctation',\n",
       " 'Uncircumcised Penis',\n",
       " '3mm membranous ventricular septal defect',\n",
       " 'Congenital hydronephrosis',\n",
       " nan,\n",
       " '47 XXX',\n",
       " nan,\n",
       " nan,\n",
       " 'CEREBRAL CYSTS',\n",
       " 'Congenital insufficiency of aortic valve',\n",
       " 'Congenital pneumonia due to other bacterial agents',\n",
       " 'Neonatal teeth noted lower gums 2 white protrusions on lower gumline suggestive of neonatal teeth They do not appear to have erupted through gingiva Differential includes Bohn nodules Epstein pearl eruption cyst though typically appear bluish',\n",
       " 'Congenital stenosis of aortic valve',\n",
       " 'Coarctation of aorta',\n",
       " nan,\n",
       " 'Craniosynostosis',\n",
       " 'Other intracranial nontraumatic hemorrhages of newborn',\n",
       " 'congenital ankyloglossia',\n",
       " 'Short tongue frenulum',\n",
       " nan,\n",
       " 'Plagiocephaly',\n",
       " 'Congenital absence atresia and stenosis of anus w/o fistula',\n",
       " 'Congenital sacral dimple',\n",
       " 'Mongolian spots on buttocks',\n",
       " 'Intrauterine drug exposure',\n",
       " 'Other specified congenital malformations of skin',\n",
       " 'Other deletions of part of a chromosome',\n",
       " 'Sacral dimple noted',\n",
       " 'Congenital plagiocephaly',\n",
       " 'Congenital pit preauricular',\n",
       " 'Mild sebaceous hyperplasia of face',\n",
       " 'Ankyloglossia',\n",
       " 'Atrial septal defect',\n",
       " 'Other congenital malformations of testis and scrotum',\n",
       " 'Congenital malformation of skull and face bones unspecified',\n",
       " 'Other and unspecified encephalopathy',\n",
       " nan,\n",
       " 'hfm possible',\n",
       " 'Congenital absence atresia and stenosis of ileum',\n",
       " 'Hidden penis',\n",
       " 'Hypo-osmolality and hyponatremia',\n",
       " 'LimbReduction',\n",
       " 'Epilepsy unsp not intractable',\n",
       " 'Congenital pneumonia unspecified',\n",
       " 'Anencephaly',\n",
       " 'Hypoplastic left heart syndrome',\n",
       " 'Congenital non-neoplastic nevus',\n",
       " 'Degenerative disease of nervous system unspecified',\n",
       " 'Left Morgagni diaphragmatic hernia',\n",
       " nan,\n",
       " 'hypospadias with inferior displacement or urethra',\n",
       " 'Turner Syndrome - genetic mosaicism 45 x [3]/46 xy [3]',\n",
       " nan,\n",
       " 'Persistent left superior vena cava',\n",
       " 'Double aortic arch',\n",
       " nan,\n",
       " 'Down syndrome',\n",
       " nan,\n",
       " nan,\n",
       " 'Chromosomal abnormality unspecified',\n",
       " 'Other adrenocortical insufficiency',\n",
       " 'hypoplastic right heart',\n",
       " nan,\n",
       " 'Congenital talipes calcaneovalgus',\n",
       " 'Trisomy 21',\n",
       " 'ambiguous genitalia ',\n",
       " 'Polycystic kidney',\n",
       " 'hypospadias',\n",
       " 'transposed great arteries with muscular ventricular septal defects x2',\n",
       " 'Ankyloglossia',\n",
       " 'Congenital diaphragmatic hernia',\n",
       " nan,\n",
       " 'bilateral renal agenesis ',\n",
       " 'lipomyelomeningocele of the lower back',\n",
       " 'Renal agenesis unilateral',\n",
       " 'Aortic valve stenosis congenital',\n",
       " nan,\n",
       " 'bilateral 2-3 toe syndactyly',\n",
       " 'Ankyloglossia',\n",
       " 'Other specified congenital malformations of kidney',\n",
       " 'Congenital torsion of penis',\n",
       " 'Congenital malformation of inner ear',\n",
       " nan,\n",
       " 'Atrial septal defect',\n",
       " 'Congenital dermal melanocytosis on sacrum',\n",
       " 'AV CANAL DEFECT',\n",
       " 'Congenital hydronephrosis',\n",
       " 'Tongue tie present',\n",
       " 'Newborn affected by maternal infec/parastc diseases',\n",
       " 'Cleft lip unilateral',\n",
       " 'secundum atrial septal defect',\n",
       " nan,\n",
       " 'Congenital non-neoplastic nevus',\n",
       " 'right unilateral complete cleft lip and palate',\n",
       " 'Ventricular septal defect',\n",
       " 'Acidosis',\n",
       " 'Secundum atrial defect measuring 57 mm in dimension with left to right shunt',\n",
       " nan,\n",
       " 'Congenital non-neoplastic nevus',\n",
       " 'Atrial septal defect',\n",
       " 'Congenital hydronephrosis',\n",
       " 'Congenital pneumonia unspecified',\n",
       " 'Renal dysplasia',\n",
       " 'Nevus simplex nape of neck right eyelid   Anterior transverse crease only',\n",
       " 'Unilateral high scrotal testis',\n",
       " 'Q6632',\n",
       " 'Other microdeletions',\n",
       " 'Other specified congenital malformations of integument',\n",
       " 'Hypospadias',\n",
       " 'Congenital chordee',\n",
       " 'Patent Ductus Arteriosus PDA',\n",
       " nan,\n",
       " 'Jaundice',\n",
       " 'Holoprosencephaly',\n",
       " 'Congenital penile torsion',\n",
       " 'Ventricular septal defect',\n",
       " 'Patent ductus arteriosus',\n",
       " nan,\n",
       " 'Ventricular septal defect',\n",
       " nan,\n",
       " 'Microcephaly',\n",
       " 'Congenital stenosis and stricture of lacrimal duct',\n",
       " 'Atrial septal defect',\n",
       " 'Other seizures',\n",
       " 'Spina bifida unspecified',\n",
       " 'Other specified neonatal hemorrhages',\n",
       " 'Other congenital malformations of tongue- Lingual Frenule',\n",
       " nan,\n",
       " '2 vessel cord',\n",
       " nan,\n",
       " 'OTHER SPECIFIED CONGENITAL MALFORMATIONS',\n",
       " 'Vaginal Skin Tag',\n",
       " 'Congenital absence and hypoplasia of umbilical artery',\n",
       " 'Other specified chromosome abnormalities',\n",
       " nan,\n",
       " 'Coarctation of aorta',\n",
       " 'Spinal dimple unable to visualize base',\n",
       " 'Patent ductus arteriosus',\n",
       " 'Congenital megaureter',\n",
       " 'Hereditary spherocytosis',\n",
       " 'Unspecified undescended testicle unilateral',\n",
       " 'Oth congenital malformations of male genital organs',\n",
       " 'Congenital sacral dimple',\n",
       " 'penoscrotal hypospadias',\n",
       " nan,\n",
       " 'Ankyloglossia',\n",
       " nan,\n",
       " 'Congenital absence and hypoplasia of umbilical artery',\n",
       " 'Ill-defined and unknown cause of mortality',\n",
       " 'Congenital sacral dimple',\n",
       " 'Pelvic kidney',\n",
       " 'Doliocephalic',\n",
       " 'Cleft lip',\n",
       " 'Congenital laryngomalacia',\n",
       " 'Other specified congenital malformations of kidney',\n",
       " 'Left post-axial noted Polydactyly for extra accessory',\n",
       " 'Congenital hydronephrosis',\n",
       " 'sacra ltuft of hair',\n",
       " 'Mild tricuspid valve regurgitation',\n",
       " 'Other specified congenital malformations of skin',\n",
       " 'Hb-SS disease with crisis unspecified',\n",
       " 'Other specified congenital malformations of skin',\n",
       " 'Hypospadias balanic',\n",
       " 'Down syndrome unspecified',\n",
       " 'Mongolian Spot Location Buttocks',\n",
       " 'Congenital chordee',\n",
       " nan,\n",
       " 'Congenital diverticulum of bladder',\n",
       " 'Congenital stenosis and stricture of lacrimal duct',\n",
       " 'Accessory fingers',\n",
       " 'Macrocephaly',\n",
       " 'Unspecified adrenocortical insufficiency',\n",
       " 'Oth congenital malformations of respiratory system',\n",
       " 'Congenital valvular pulmonic stenosis- mild by gradient 32 on Echo found due to murmur qualities at birth [Q221]',\n",
       " 'Tetralogy of Fallot',\n",
       " 'Patent ductus arteriosus',\n",
       " 'Caput Succedaneum',\n",
       " nan,\n",
       " 'Other specified congenital malformations of kidney',\n",
       " 'PFO',\n",
       " 'Umbilical hernia without obstruction or gangrene',\n",
       " 'Unil inguinal hernia w/o obst or gangr not spcf as recur',\n",
       " 'Atresia of esophagus with tracheo-esophageal fistula',\n",
       " 'subcoronal hypospadias',\n",
       " 'Deep cleft and sacral dimple base visualized',\n",
       " 'Congenital sacral dimple',\n",
       " 'buried penis',\n",
       " 'Mongolian Spot Location Right Shoulder Buttocks',\n",
       " 'Hypospadias penile',\n",
       " 'Other specified congenital malformations of heart',\n",
       " 'Ventricular septal defect',\n",
       " 'Hypospadias penile',\n",
       " 'Atrial septal defect',\n",
       " 'Trisomy 13 unspecified',\n",
       " 'mild tortuosity of aortic arch',\n",
       " 'Other specified congenital malformations of skin',\n",
       " 'Congenital stenosis and stricture of esophagus',\n",
       " 'Congenital Hydronephrosis',\n",
       " 'Hypospadias unspecified',\n",
       " 'Oth congenital malform of spine not associated w scoliosis',\n",
       " 'Atrial septal defect',\n",
       " 'Stillbirth',\n",
       " 'Congenital chordee',\n",
       " 'Agenesis of coccyx',\n",
       " 'Patent ductus arteriosus',\n",
       " 'Atrial septal defect',\n",
       " 'Congenital pneumonia unspecified',\n",
       " 'Stillbirth',\n",
       " nan,\n",
       " 'Oth congenital malform of spine not associated w scoliosis',\n",
       " 'Bilateral super vena cava with enlarged coronary sinus',\n",
       " 'Congenital scoliosis due to congenital bony malformation',\n",
       " 'Malformation of coronary vessels',\n",
       " 'Congenital chordee',\n",
       " 'Patent ductus arteriosus',\n",
       " 'Ruptured omphalocele',\n",
       " 'Congenital cerebral cysts',\n",
       " 'Ankyloglossia',\n",
       " 'Other congenital malformations of liver']"
      ]
     },
     "execution_count": 33,
     "metadata": {},
     "output_type": "execute_result"
    }
   ],
   "source": [
    "#Clean and turn text into a string\n",
    "remove = ['\\\\.', ' ', ',', ';', ':', '_', '\\\\?', '!', '\\\\(', '\\\\)']\n",
    "\n",
    "data_text = data_new.copy()\n",
    "for i in remove:\n",
    "    data_text['bg_icd_sp'] = data_text['bg_icd_sp'].str.replace(i,'', regex=True)\n",
    "    \n",
    "text = list(data_text['bg_icd_sp'])\n",
    "\n",
    "text"
   ]
  },
  {
   "cell_type": "markdown",
   "id": "b9a599ec",
   "metadata": {},
   "source": [
    "A significant number of observations are coming in as camel case text (for example: HeartDisease). We discovered that camel case interferes with the fuzzy matching process and results in a lower similarity index that might otherwise cause us to throw out a true match. The step below fixes the camel case text by adding a space in between text with a lowercase letter followed immediately by an uppercase letter and then makes all text values lowercase."
   ]
  },
  {
   "cell_type": "code",
   "execution_count": null,
   "id": "ed19b0a7",
   "metadata": {},
   "outputs": [],
   "source": [
    "#Fix camel case text\n",
    "text_new=[]\n",
    "\n",
    "for i in text:\n",
    "    i = str(i)\n",
    "    a = re.sub(r'((?<=[a-z])[A-Z]|(?<!\\A)[A-Z](?=[a-z]))', r' \\1',i).lower()\n",
    "    text_new.append(a)"
   ]
  },
  {
   "cell_type": "markdown",
   "id": "ff834a83",
   "metadata": {},
   "source": [
    "Now that the text has been cleaned and standardized, we will merge the cleaned bg_icd_sp field back into the pob3 dataframe so we can use this later when we merge with the ICD text reference spreadsheet and when we perform the NLP steps."
   ]
  },
  {
   "cell_type": "code",
   "execution_count": null,
   "id": "4c57631c",
   "metadata": {},
   "outputs": [],
   "source": [
    "#Merge the clean text field back into merged_dta for later use with NLP\n",
    "bg_icd_sp_clean = pd.DataFrame(text_new, columns = ['bg_icd_sp_clean']).reset_index()\n",
    "\n",
    "data_clean = pd.merge(data_new, bg_icd_sp_clean, left_index=True, right_index=True)\n",
    "data_clean.drop(['index_x', 'index_y'], axis=1, inplace=True)\n",
    "data_clean['ICD'] = data_clean['ICD'].astype(str)\n",
    "\n",
    "#Drop old columns\n",
    "data_clean=data_clean.drop(['bg_icd','bg_icd_sp'], axis=1) #'level_0'], axis=1) #removing level_0 from drop\n",
    "data_clean.info()"
   ]
  },
  {
   "cell_type": "markdown",
   "id": "4873ccf2",
   "metadata": {},
   "source": [
    "## Merge POB data to Q code reference list\n",
    "\n",
    "Now that the ICD codes have been cleaned and we've set those we can based on their reviewed text, we can merge the POB data and the reference list together."
   ]
  },
  {
   "cell_type": "code",
   "execution_count": null,
   "id": "d5d55441",
   "metadata": {
    "scrolled": true
   },
   "outputs": [],
   "source": [
    "merged = data_clean.merge(q, how='left', on='ICD')\n",
    "\n",
    "merged.info()\n",
    "\n",
    "# View NaN values in Category in the resulting merged dataset\n",
    "pd.set_option('display.max_rows', None)\n",
    "merged[merged[\"Category\"].isnull()]"
   ]
  },
  {
   "cell_type": "code",
   "execution_count": null,
   "id": "d0fc98af",
   "metadata": {},
   "outputs": [],
   "source": [
    "# Check that the shape of the resulting dataset meets expectations (e.g., number of columns, number of rows)\n",
    "merged.shape\n",
    "\n",
    "# Run a quick summary of numbers of observations in each category\n",
    "merged.groupby('Category').count().sort_values('Text',ascending=False)"
   ]
  },
  {
   "cell_type": "markdown",
   "id": "0b8d0c03",
   "metadata": {},
   "source": [
    "\n",
    "## Match MACDP codes\n",
    "\n",
    "Some jurisdictions use MACDP codes, which are numbers and start with 7 usually. The columns MACDP_low and\tMACDP_high contain the reference values we will use to match the MACDP code with the correct birth defect text and category.\n"
   ]
  },
  {
   "cell_type": "code",
   "execution_count": null,
   "id": "bd9a871d",
   "metadata": {},
   "outputs": [],
   "source": [
    "#Restrict to rows where code starts with 7 (presumptive MACDP codes)\n",
    "MACDP_data = merged.loc[merged['ICD'].str.startswith('7')].copy()\n",
    "\n",
    "#Convert ICD to numeric\n",
    "MACDP_data['ICD'] = MACDP_data['ICD'].astype(int)\n",
    "\n",
    "#Restrict to columns needed\n",
    "MACDP_data = MACDP_data[['ID','ICD']]\n",
    "MACDP_data.info()"
   ]
  },
  {
   "cell_type": "code",
   "execution_count": null,
   "id": "18b4916c",
   "metadata": {},
   "outputs": [],
   "source": [
    "#Creating MACDP dictionary\n",
    "MACDP = q.loc[q['MACDP_low'].notnull(), :].copy()\n",
    "MACDP.head()\n",
    "#Restrict to columns needed\n",
    "MACDP = MACDP[['MACDP_low','MACDP_high','Text','Category']] "
   ]
  },
  {
   "cell_type": "code",
   "execution_count": null,
   "id": "d5ff9c0e",
   "metadata": {},
   "outputs": [],
   "source": [
    "#Convert ICD 9 columns to integers\n",
    "MACDP['MACDP_low']=MACDP['MACDP_low'].astype(int)\n",
    "MACDP['MACDP_high']=MACDP['MACDP_high'].astype(int)"
   ]
  },
  {
   "cell_type": "code",
   "execution_count": null,
   "id": "5e485e56",
   "metadata": {},
   "outputs": [],
   "source": [
    "#Merge dataframes and assign text and category for each row in MACDP data\n",
    "MACDP_data_assigned = MACDP_data.assign(key=1).merge(MACDP.assign(key=1), on='key')\\\n",
    "                 .drop(columns='key')\\\n",
    "                 .query('ICD.between(MACDP_low, MACDP_high)')\\\n",
    "                 .drop(columns=['MACDP_low', 'MACDP_high'])\\\n",
    "                 .reset_index(drop=True)\n",
    "MACDP_data_assigned['ICD'] = MACDP_data_assigned['ICD'].astype(str)\n",
    "MACDP_data_assigned.info()"
   ]
  },
  {
   "cell_type": "code",
   "execution_count": null,
   "id": "5703d5cd",
   "metadata": {},
   "outputs": [],
   "source": [
    "#Merge assigned MACDP cases back into full dataframe\n",
    "merged = merged[['ID','ICD','bg_icd_sp_clean','Text','Category']] \n",
    "merged_new= merged.merge(MACDP_data_assigned, how='left', on=['ID','ICD'])\n",
    "\n",
    "merged_new.head()\n",
    "merged_new.info()"
   ]
  },
  {
   "cell_type": "code",
   "execution_count": null,
   "id": "9ab881f7",
   "metadata": {},
   "outputs": [],
   "source": [
    "#Replace Text_y column with values from Text_x where Text_y is NaN, and rename Text_y\n",
    "merged_new['Text'] = merged_new['Text_x'].fillna(merged_new['Text_y'])\n",
    "merged_new['Category'] = merged_new['Category_x'].fillna(merged_new['Category_y'])\n",
    "\n",
    "merged_new.info()"
   ]
  },
  {
   "cell_type": "markdown",
   "id": "41ed1313",
   "metadata": {},
   "source": [
    "## Hard-code categorizations for specific observations\n",
    "\n",
    "Some ICD codes and text have been incorrectly reported in the bg_icd and bg_icd_sp variables and are not, in fact, birth defects. Others provide too little information to categorize, such as test results that are pending. Additionally, some text values occur frequently enough that it's worth hard-coding those observations into their specific categories to ensure the steps above have classified them appropriately and to improve overall accuracy of the NLP model. \n",
    "\n",
    "The steps below conduct hard-coding of these categorization in the merged_dta dataframe. With new data submissions, additional hard-coding may be required. Refer to the analyst SOP and clinical review SOP for additional information."
   ]
  },
  {
   "cell_type": "code",
   "execution_count": null,
   "id": "bcbd8ce8",
   "metadata": {},
   "outputs": [],
   "source": [
    "#Drop old columns\n",
    "merged_clean=merged_new.drop(['Category_x','Category_y','Text_x','Text_y'], axis=1)\n",
    "merged_clean.shape\n",
    "merged_clean.head(20)"
   ]
  },
  {
   "cell_type": "markdown",
   "id": "e7729b21",
   "metadata": {},
   "source": [
    "Create a separate dataset of all observations with missing ICD code or non-matching ICD codes."
   ]
  },
  {
   "cell_type": "code",
   "execution_count": null,
   "id": "bcb629dd",
   "metadata": {
    "scrolled": true
   },
   "outputs": [],
   "source": [
    "Qmiss = merged_clean.loc[merged_clean['Category'].isnull(), :].copy()\n",
    "Qmiss.shape"
   ]
  },
  {
   "cell_type": "code",
   "execution_count": null,
   "id": "995a310c",
   "metadata": {
    "scrolled": true
   },
   "outputs": [],
   "source": [
    "Qmiss.info()"
   ]
  },
  {
   "cell_type": "markdown",
   "id": "a2909ebf",
   "metadata": {},
   "source": [
    "Now re-categorize observations with text that contains the words \"pending\" or \"suspected\" as unable to categorize, and also re-categorize observations with text or ICD codes that indicate something that is not actually a birth defect. Add some additional categories for hard-coding: 1) observations that are not a birth defect based on ICD code (e.g., non-Q codes), and 2) commonly occurring text (or text values that otherwise need to be hard-coded). For more information, see the analytic SOP and clinical review SOP."
   ]
  },
  {
   "cell_type": "code",
   "execution_count": null,
   "id": "0b1bdd0e",
   "metadata": {},
   "outputs": [],
   "source": [
    "# Recoding observations as \"Not a birth defect of interest/Unable to classify\"\n",
    "Qmiss['Category'] = np.where((Qmiss['bg_icd_sp_clean']=='other'),'Not a birth defect of interest/Unable to classify',Qmiss['Category'])\n",
    "Qmiss['Category'] = np.where((Qmiss['bg_icd_sp_clean']=='other '),'Not a birth defect of interest/Unable to classify',Qmiss['Category'])\n",
    "Qmiss['Category'] = np.where((Qmiss['bg_icd_sp_clean']=='a'),'Not a birth defect of interest/Unable to classify',Qmiss['Category'])\n",
    "Qmiss['Category'] = np.where((Qmiss['bg_icd_sp_clean']=='other anomaly'),'Not a birth defect of interest/Unable to classify',Qmiss['Category'])\n",
    "Qmiss['Category'] = np.where((Qmiss['bg_icd_sp_clean']=='other  anomaly'),'Not a birth defect of interest/Unable to classify',Qmiss['Category'])\n",
    "Qmiss['Category'] = np.where((Qmiss['bg_icd_sp_clean'].str.contains(\"pending\")),'Not a birth defect of interest/Unable to classify',Qmiss['Category'])\n",
    "Qmiss['Category'] = np.where((Qmiss['bg_icd_sp_clean'].str.contains(\"suspected\")),'Not a birth defect of interest/Unable to classify',Qmiss['Category'])\n",
    "Qmiss['Category'] = np.where((Qmiss['bg_icd_sp_clean'].str.find(\"tongue tie\",0)>=0),'Not a birth defect of interest/Unable to classify',Qmiss['Category'])\n",
    "Qmiss['Category'] = np.where((Qmiss['bg_icd_sp_clean'].str.contains('sacral dimple')),'Not a birth defect of interest/Unable to classify',Qmiss['Category'])\n",
    "Qmiss['Category'] = np.where((Qmiss['bg_icd_sp_clean'].str.contains(\"possible\")),'Not a birth defect of interest/Unable to classify',Qmiss['Category'])\n",
    "Qmiss['Category'] = np.where((Qmiss['ICD'].str.contains(\"Notabirthdefectofinterest/Unabletoclassify\")),'Not a birth defect of interest/Unable to classify',Qmiss['Category'])\n",
    "\n",
    "# Recoding observations as \"Not a birth defect\" based on text data\n",
    "Qmiss['Category'] = np.where((Qmiss['bg_icd_sp_clean'].str.contains('murmur')),'Not a birth defect',Qmiss['Category'])\n",
    "Qmiss['Category'] = np.where((Qmiss['bg_icd_sp_clean'].str.find(\"mongolian\",0)>=0),'Not a birth defect',Qmiss['Category'])\n",
    "Qmiss['Category'] = np.where((Qmiss['bg_icd_sp_clean'].str.contains('nevus')),'Not a birth defect',Qmiss['Category'])\n",
    "Qmiss['Category'] = np.where((Qmiss['bg_icd_sp_clean'].str.contains('tachycardia')),'Not a birth defect',Qmiss['Category'])\n",
    "Qmiss['Category'] = np.where((Qmiss['bg_icd_sp_clean'].str.contains('glycemia')),'Not a birth defect',Qmiss['Category'])\n",
    "Qmiss['Category'] = np.where((Qmiss['bg_icd_sp_clean'].str.contains('non-viable fetus')),'Not a birth defect',Qmiss['Category'])\n",
    "Qmiss['Category'] = np.where((Qmiss['bg_icd_sp_clean'].str.contains('small for gestational age')),'Not a birth defect',Qmiss['Category'])\n",
    "Qmiss['Category'] = np.where((Qmiss['bg_icd_sp_clean'].str.contains('large for gestational age')),'Not a birth defect',Qmiss['Category'])\n",
    "Qmiss['Category'] = np.where((Qmiss['bg_icd_sp_clean'].str.contains('caput')),'Not a birth defect',Qmiss['Category'])\n",
    "Qmiss['Category'] = np.where((Qmiss['bg_icd_sp_clean'].str.contains('hernia umbilical')),'Not a birth defect',Qmiss['Category'])\n",
    "Qmiss['Category'] = np.where((Qmiss['bg_icd_sp_clean'].str.contains('umbilical hernia')),'Not a birth defect',Qmiss['Category'])\n",
    "Qmiss['Category'] = np.where((Qmiss['bg_icd_sp_clean'].str.contains('phimosis')),'Not a birth defect',Qmiss['Category'])\n",
    "Qmiss['Category'] = np.where((Qmiss['bg_icd_sp_clean'].str.contains('hydrocele')),'Not a birth defect',Qmiss['Category'])\n",
    "Qmiss['Category'] = np.where((Qmiss['bg_icd_sp_clean'].str.contains('anemia')),'Not a birth defect',Qmiss['Category'])\n",
    "Qmiss['Category'] = np.where((Qmiss['bg_icd_sp_clean'].str.contains('premature infant')),'Not a birth defect',Qmiss['Category'])\n",
    "Qmiss['Category'] = np.where((Qmiss['bg_icd_sp_clean'].str.contains('stillbirth')),'Not a birth defect',Qmiss['Category'])\n",
    "Qmiss['Category'] = np.where((Qmiss['bg_icd_sp_clean'].str.contains('respiratory distress')),'Not a birth defect',Qmiss['Category'])\n",
    "\n",
    "# Recoding observations as \"Not a birth defect\" based on ICD code\n",
    "Qmiss.loc[Qmiss['ICD'].str.contains(r\"^[a-pr-zA-PR-Z][0-9]+$\", regex=True), 'Category'] = 'Not a birth defect'\n",
    "\n",
    "Qmiss['Category'] = np.where((Qmiss['ICD'].str.contains('TERMINALMECOMIUN')),'Not a birth defect',Qmiss['Category'])\n",
    "Qmiss['Category'] = np.where((Qmiss['ICD'].str.contains('FORAMENOVULEANEURYSM')),'Not a birth defect',Qmiss['Category'])\n",
    "Qmiss['Category'] = np.where((Qmiss['ICD'].str.contains('VENTRA')),'Not a birth defect',Qmiss['Category'])\n",
    "Qmiss['Category'] = np.where((Qmiss['ICD'].str.contains('ANEMIA')),'Not a birth defect',Qmiss['Category'])\n",
    "Qmiss['Category'] = np.where((Qmiss['ICD'].str.contains('Notabirthdefect')),'Not a birth defect',Qmiss['Category'])\n",
    "\n",
    "Qmiss['Category'].value_counts()"
   ]
  },
  {
   "cell_type": "markdown",
   "id": "3d516cd9",
   "metadata": {},
   "source": [
    "Now we can remove these rows that have been hardcoded from Qmiss and will later add them into the NoMiss dataframe"
   ]
  },
  {
   "cell_type": "code",
   "execution_count": null,
   "id": "ade88465",
   "metadata": {},
   "outputs": [],
   "source": [
    "Qmiss2 = Qmiss.loc[Qmiss['Category'].isnull(), :].copy()\n",
    "\n",
    "Qmiss2.shape\n",
    "\n",
    "nomiss_new = Qmiss.loc[Qmiss['Category'].notnull(), :].copy()\n",
    "\n",
    "nomiss_new.shape"
   ]
  },
  {
   "cell_type": "code",
   "execution_count": null,
   "id": "b47a2ef1",
   "metadata": {},
   "outputs": [],
   "source": [
    "#Restrict Qmiss to relevant columns\n",
    "Qmiss2 = Qmiss2[['ID','bg_icd_sp_clean','ICD']]"
   ]
  },
  {
   "cell_type": "markdown",
   "id": "3f624df8",
   "metadata": {},
   "source": [
    "The reference list of Q codes that we are using is a living document. It represents all Q codes that are currently present within the POB data. With each new data import, we need to manually check the list of nonmatching ICD codes in Qmiss to see if there are any new Q codes that haven't previously been included in the dataset. These codes should be added to the reference list and categorized accordingly based on clinical review.\\\n",
    "\\\n",
    "IMPORTANT: After the new Q codes have been categorized, you must re-run each of the steps above so that the ICD codes in the POB dataset can be matched with the newly-categorized ICD codes. Remember, the more observations we can match on ICD code, the more robust our model will be, and the fewer observations we will have left to try to predict their categorizations using NLP."
   ]
  },
  {
   "cell_type": "code",
   "execution_count": null,
   "id": "53e00f26",
   "metadata": {},
   "outputs": [],
   "source": [
    "# Review non-matching Q codes to see if any need to be added to the reference list\n",
    "Qmiss_review = Qmiss2[Qmiss2['ICD'].astype(str).str.contains('Q')].copy()\n",
    "Qmiss_review\n",
    "\n",
    "# If the list is too long to review in the Jupyter notebook, you can export to an excel file using the code below:\n",
    "Qmiss_review.to_excel('Qmiss_review.xlsx')"
   ]
  },
  {
   "cell_type": "markdown",
   "id": "38353100",
   "metadata": {},
   "source": [
    "Create a separate dataset of all observations with matching ICD codes, which we will use to build our NLP model."
   ]
  },
  {
   "cell_type": "code",
   "execution_count": null,
   "id": "8d77cb8b",
   "metadata": {
    "scrolled": true
   },
   "outputs": [],
   "source": [
    "nomiss = merged_clean.loc[merged_clean['bg_icd_sp_clean'].notnull() & (merged_clean['Category'].notnull()), :].copy()\n",
    "\n",
    "nomiss.shape"
   ]
  },
  {
   "cell_type": "code",
   "execution_count": null,
   "id": "b6d098ce",
   "metadata": {},
   "outputs": [],
   "source": [
    "nomiss2 = pd.concat([nomiss, nomiss_new])\n",
    "\n",
    "nomiss2.shape"
   ]
  },
  {
   "cell_type": "markdown",
   "id": "a184555e",
   "metadata": {},
   "source": [
    "Plot the frequencies of observations for each birth defect category in nomiss. This will give us an idea of the number of data elements we are supplying for the model, and indicates that stratified sampling is necessary for the model because our data is highly imbalanced between categories."
   ]
  },
  {
   "cell_type": "code",
   "execution_count": null,
   "id": "a9694f34",
   "metadata": {},
   "outputs": [],
   "source": [
    "chart = sns.countplot(x=nomiss2['Category'], order=pd.value_counts(nomiss2['Category']).index)\n",
    "sns.set(rc = {'figure.figsize':(20,5)},font_scale=2)\n",
    "chart.set_xticklabels(chart.get_xticklabels(), rotation=45, horizontalalignment='right')"
   ]
  },
  {
   "cell_type": "markdown",
   "id": "6d987038",
   "metadata": {},
   "source": [
    "## Fuzzy matching: Non-categorized observations\n",
    "\n",
    "Observations with missing or nonmatching ICD values in Qmiss might have text in bg_icd_sp_clean that matches exactly or very nearly to a Q code ICD description. If we can match some observations through fuzzy matching, we can add those matched values to nomiss, develop a more robust NLP model, and we are left with fewer unclassified observations that we would have to predict using ML.\\\n",
    "\\\n",
    "We will use the fuzzywuzzy package for Python to conduct the fuzzy matching against the ICD code description text in the reference list."
   ]
  },
  {
   "cell_type": "code",
   "execution_count": null,
   "id": "274e7acd",
   "metadata": {},
   "outputs": [],
   "source": [
    "#Turn text from q2 into a list of strings and make all characters lowercase\n",
    "ref_vals = list(q['Text'].str.lower())\n",
    "ref_vals"
   ]
  },
  {
   "cell_type": "code",
   "execution_count": null,
   "id": "5b291c60",
   "metadata": {},
   "outputs": [],
   "source": [
    "#Turn text from Qmiss into a string\n",
    "unmatched = list(Qmiss2['bg_icd_sp_clean'])\n",
    "unmatched"
   ]
  },
  {
   "cell_type": "markdown",
   "id": "11e6bc4b",
   "metadata": {},
   "source": [
    "Use the process function in the fuzzywuzzy package to identify the reference ICD code description value with the closest match to the bg_icd_sp text in Qmiss. The step below prints out the ICD code description that is the closest match to the text field in one row and the similarity index for the match in the following row. We create a for loop that will run each bg_icd_sp value through the entire list of ICD code descriptions from the reference list and put the results into a dataframe.\\\n",
    "\\\n",
    "Note that this step can take a few minutes to run on your computer."
   ]
  },
  {
   "cell_type": "code",
   "execution_count": null,
   "id": "95925801",
   "metadata": {},
   "outputs": [],
   "source": [
    "match_results = {'Matched Value':[], 'FW_score':[], 'bg_icd_sp_clean':[]}\n",
    "\n",
    "highest = process.extractOne(i, ref_vals)\n",
    "\n",
    "for i in unmatched:\n",
    "    highest = process.extractOne(i,ref_vals)\n",
    "    match_results['Matched Value'].append(highest[0])\n",
    "    match_results['FW_score'].append(highest[1])\n",
    "    match_results['bg_icd_sp_clean'].append(i)\n",
    "\n",
    "        \n",
    "clean_fw_results = pd.DataFrame(match_results)\n",
    "clean_fw_results"
   ]
  },
  {
   "cell_type": "markdown",
   "id": "0ae98534",
   "metadata": {},
   "source": [
    "Now that we have the fuzzy matching results lined up nicely to the bg_icd_sp_clean values, we'll merge these results with the original Qmiss dataframe so that these values are linked to participant ID. Note that when you perform the steps below, you may observe that a handful of observations were dropped from the steps above. This is not a mistake! In the current dataset, there are a few IDs that have duplicated bg_icd and bg_icd_sp fields (e.g., the same ICD code and text description repeated twice for the same participant ID in bg_icd1/bg_icd1_sp and bg_icd2/bg_icd2_sp). These are genuine duplicates and should be dropped. If you want to be extra sure, you can export Qmiss to an excel workbook and use the \"highlight duplicate values\" feature in conditional formatting to do a manual check and ensure it is only true duplicates that are being dropped in the next step."
   ]
  },
  {
   "cell_type": "code",
   "execution_count": null,
   "id": "c029f786",
   "metadata": {},
   "outputs": [],
   "source": [
    "clean_fw_results.info()"
   ]
  },
  {
   "cell_type": "code",
   "execution_count": null,
   "id": "14919033",
   "metadata": {},
   "outputs": [],
   "source": [
    "#Now combine with original dataframe\n",
    "miss_fw_matched = pd.merge(Qmiss2, clean_fw_results, how='left', on='bg_icd_sp_clean').drop_duplicates()\n",
    "\n",
    "miss_fw_matched.rename(columns={'ICD':'ICD_orig'}, inplace = True)\n",
    "miss_fw_matched.shape"
   ]
  },
  {
   "cell_type": "markdown",
   "id": "870cacab",
   "metadata": {},
   "source": [
    "Now we will merge with the reference dataset on ICD description values so that we have the associated category for the matched values. Note that we will need to drop duplicates again, but this time, it's for another reason. The reference list includes some parent ICD codes that have the same ICD text description as certain child codes (e.g., parent and child codes for cleft lip). When we match the two dataframes on ICD description values, we end up with duplicate values for those observations for all but ICD code, because the text description matches to more than one ICD code. To solve this, we drop all values that have a duplicate ID, bg_icd, bg_icd_sp, and Text field. It doesn't matter which ICD code is retained for those values because all we're interested in ultimately is the Category, and the codes with matching ICD text will be assigned to the same Category of birth defects."
   ]
  },
  {
   "cell_type": "code",
   "execution_count": null,
   "id": "5c031105",
   "metadata": {},
   "outputs": [],
   "source": [
    "# Merge with reference dataset\n",
    "qnew = q\n",
    "qnew['Matched Value'] = q['Text'].str.lower()\n",
    "\n",
    "\n",
    "miss_fw_matched2 = pd.merge(miss_fw_matched, qnew, how='left', on='Matched Value')\n",
    "\n",
    "# Drop duplicate observations where ID, bg_icd_sp, and Text are all the same.\n",
    "miss_fw_matched2 = miss_fw_matched2.drop_duplicates(subset=['ID','bg_icd_sp_clean','Text'])\n",
    "\n",
    "miss_fw_matched2.shape"
   ]
  },
  {
   "cell_type": "markdown",
   "id": "bfd75469",
   "metadata": {},
   "source": [
    "Now you can export this dataframe to an excel document that will allow for clinical review of the fuzzy match results. Currently, our cutoff value is a similarity score of 90% or higher for something to be considered a \"true\" match. For observations with a cutoff value of 90% or higher, we will assign the associated birth defect category to the matching ICD code and text description. However, as new data submissions come in, you will want to check the results as described in the clinical review SOP to ensure that 90% is still an approporiate cutoff value. Use the step below to export the dataframe, updating the date of the filename accordingly."
   ]
  },
  {
   "cell_type": "code",
   "execution_count": null,
   "id": "edbc5348",
   "metadata": {},
   "outputs": [],
   "source": [
    "# Export an excel file with these results\n",
    "\n",
    "miss_fw_matched2.to_excel('Fuzzy_Matching_Qmiss.xlsx')"
   ]
  },
  {
   "cell_type": "markdown",
   "id": "d0de4f0c",
   "metadata": {},
   "source": [
    "## Preparing the data for ML\n",
    "\n",
    "Now that we've done fuzzy matching, we want to update the Qmiss and noMiss dataframes to accommodate these additional values before we develop our NLP model. \n",
    "\n",
    "miss_fw_matched2 now has a number of observations that are classified due to a fuzzy match similarity score of 90% or greater or due to hard-coding of observations. We want to extract these observations and add them to nomiss, which will increase the robustness of our training and testing data for NLP. To do this, we will flag all of the observations in Qmiss that have now been accurately categorized."
   ]
  },
  {
   "cell_type": "code",
   "execution_count": null,
   "id": "a6eaa15a",
   "metadata": {
    "scrolled": false
   },
   "outputs": [],
   "source": [
    "# Pull out values from miss_fw_matched2 that are now classified due to a fuzzy match score of >=90%\n",
    "# Create a flag variable\n",
    "miss_fw_matched2['classified_flag'] = np.where((miss_fw_matched2['FW_score'] > 89),1,0)\n",
    "\n",
    "miss_fw_matched2.shape"
   ]
  },
  {
   "cell_type": "markdown",
   "id": "8a1a887e",
   "metadata": {},
   "source": [
    "Classified_flag values that equal 1 will be extracted from Qmiss_clean2 and joined to a final version of nomiss to be used to build our NLP model."
   ]
  },
  {
   "cell_type": "code",
   "execution_count": null,
   "id": "20c4b3de",
   "metadata": {},
   "outputs": [],
   "source": [
    "# Remove values to be added to Nomiss\n",
    "miss_fw_matched3 = miss_fw_matched2.loc[miss_fw_matched2['classified_flag']==1].drop(['Matched Value',\n",
    "                                                                           'FW_score','classified_flag','ICD_orig'],axis='columns').copy()\n",
    "miss_fw_matched3.info()"
   ]
  },
  {
   "cell_type": "code",
   "execution_count": null,
   "id": "1d985871",
   "metadata": {},
   "outputs": [],
   "source": [
    "# Join with nomiss\n",
    "nomiss3 = pd.concat([nomiss2, miss_fw_matched3],ignore_index = True)\n",
    "nomiss3.shape\n",
    "nomiss3=nomiss3.drop(['MACDP_low','MACDP_high'], axis=1)"
   ]
  },
  {
   "cell_type": "markdown",
   "id": "5a131103",
   "metadata": {},
   "source": [
    "Now subset miss_fw_matched2 to only those observations with a classified_flag value of 0. These are the remaining uncategorized observations in the dataset that will be categorized using NLP."
   ]
  },
  {
   "cell_type": "code",
   "execution_count": null,
   "id": "87c4a10e",
   "metadata": {},
   "outputs": [],
   "source": [
    "# Subset to remaining uncategorized values for categorization using NLP modeling\n",
    "Qmiss3 = miss_fw_matched2.loc[miss_fw_matched2['classified_flag']==0].drop(\n",
    "     ['classified_flag','Matched Value','FW_score','Category','ICD', 'Text','MACDP_low','MACDP_high'],axis='columns').reset_index().copy()\n",
    "Qmiss3.rename(columns={'ICD_orig':'ICD'}, inplace = True)\n",
    "Qmiss3.shape"
   ]
  },
  {
   "cell_type": "markdown",
   "id": "115144be",
   "metadata": {},
   "source": [
    "# Now it's time for some NLP!\n",
    "\n",
    "We will build our NLP classification model using nomiss3, test various models to identify the one with the greatest accuracy, and run the final model on Qmiss3 to categorize the uncategorized text.\n",
    "\n",
    "We are using the sklearn package for the NLP and machine learning. First we need to split our data into training and validation datasets based on our text data ('bg_icd_sp_clean') and associated categorizations ('Category'). Because our data is heavily imbalanced with each category of birth defects occurring with a different frequency, we need to stratify our training and validation datasets by category. We are using a 75%/25% training/validation split, and we've indicated a random state seed for the purposes of reproducibility (but the steps below could also be run without indicating a random state seed number)."
   ]
  },
  {
   "cell_type": "code",
   "execution_count": null,
   "id": "6a48ba2f",
   "metadata": {},
   "outputs": [],
   "source": [
    "from sklearn.feature_extraction.text import TfidfVectorizer\n",
    "\n",
    "#split into training and testing data\n",
    "X_train, X_valid, y_train, y_valid = \\\n",
    "    train_test_split(nomiss3['bg_icd_sp_clean'], nomiss3['Category'], stratify=nomiss3['Category'],\n",
    "                     test_size=0.25, random_state=42)"
   ]
  },
  {
   "cell_type": "markdown",
   "id": "158ced17",
   "metadata": {},
   "source": [
    "Now we need to use TfidfVectorizer to transform and process our text data for the model. Our first approach is to do this using unigrams, and we also remove stop words using the built-in function for English stop words such as 'on', 'a', 'the', etc.\n",
    "\n",
    "There is also an option to determine max features for the vectorizer, but we have removed max features for the time being.\n",
    "\n",
    "After vectorizing our data, we fit to the training dataset and transform the raw text for each of our training and validation data sets."
   ]
  },
  {
   "cell_type": "code",
   "execution_count": null,
   "id": "8255d106",
   "metadata": {},
   "outputs": [],
   "source": [
    "unigrams = TfidfVectorizer(stop_words=\"english\",lowercase=True)\n",
    "\n",
    "# fit only on the training data\n",
    "unigrams.fit(X_train)\n",
    "\n",
    "## transform raw text\n",
    "tfidf_unigrams_train = unigrams.transform(X_train)\n",
    "tfidf_unigrams_valid = unigrams.transform(X_valid)"
   ]
  },
  {
   "cell_type": "markdown",
   "id": "486818d6",
   "metadata": {},
   "source": [
    "Use get_feature_names to check that the data was vectorized as expected."
   ]
  },
  {
   "cell_type": "code",
   "execution_count": null,
   "id": "512abc16",
   "metadata": {},
   "outputs": [],
   "source": [
    "unigrams.get_feature_names_out()"
   ]
  },
  {
   "cell_type": "markdown",
   "id": "581e438e",
   "metadata": {},
   "source": [
    "Check the shape of the datasets and the vectorized text."
   ]
  },
  {
   "cell_type": "code",
   "execution_count": null,
   "id": "71965a3b",
   "metadata": {},
   "outputs": [],
   "source": [
    "print(X_train.shape)\n",
    "print(y_train.shape)\n",
    "\n",
    "print(X_valid.shape)\n",
    "print(y_valid.shape)"
   ]
  },
  {
   "cell_type": "code",
   "execution_count": null,
   "id": "f3b718c3",
   "metadata": {},
   "outputs": [],
   "source": [
    "tfidf_unigrams_train"
   ]
  },
  {
   "cell_type": "code",
   "execution_count": null,
   "id": "1ee53a44",
   "metadata": {},
   "outputs": [],
   "source": [
    "tfidf_unigrams_valid"
   ]
  },
  {
   "cell_type": "markdown",
   "id": "5ea8a7fe",
   "metadata": {},
   "source": [
    "Now we will vectorize the data again but for the purposes of performing cross-validation of each of our models. The difference here is that for cross-validation, the full dataset is vectorized, and not just the training data, as above."
   ]
  },
  {
   "cell_type": "code",
   "execution_count": null,
   "id": "b3be2e39",
   "metadata": {},
   "outputs": [],
   "source": [
    "# Cross-validation\n",
    "unigrams_cv = TfidfVectorizer(stop_words='english', lowercase= True)\n",
    "\n",
    "# For cross-validation, fit on all of the training and testing data\n",
    "unigrams_cv.fit(nomiss3['bg_icd_sp_clean'])\n",
    "\n",
    "tfidf_unigrams_cv = unigrams_cv.transform(nomiss3['bg_icd_sp_clean'])"
   ]
  },
  {
   "cell_type": "code",
   "execution_count": null,
   "id": "f6bcf1f4",
   "metadata": {},
   "outputs": [],
   "source": [
    "tfidf_unigrams_cv"
   ]
  },
  {
   "cell_type": "markdown",
   "id": "91b4c1ec",
   "metadata": {},
   "source": [
    "For cross-validation, we also need to create a separate text array that contains our categorized data."
   ]
  },
  {
   "cell_type": "code",
   "execution_count": null,
   "id": "a62a9256",
   "metadata": {},
   "outputs": [],
   "source": [
    "y_cv = np.asarray(nomiss3['Category'])\n",
    "y_cv"
   ]
  },
  {
   "cell_type": "markdown",
   "id": "8f87bf5f",
   "metadata": {},
   "source": [
    "Now we will go through each of the steps above again but this time to create vectorized data as bigrams."
   ]
  },
  {
   "cell_type": "code",
   "execution_count": null,
   "id": "85c16115",
   "metadata": {},
   "outputs": [],
   "source": [
    "bigrams = TfidfVectorizer(stop_words=\"english\",lowercase=True, ngram_range=(2,2))\n",
    "\n",
    "# fit only on the training data\n",
    "bigrams.fit(X_train)\n",
    "\n",
    "## transform raw text\n",
    "tfidf_bigrams_train = bigrams.transform(X_train)\n",
    "tfidf_bigrams_valid = bigrams.transform(X_valid)"
   ]
  },
  {
   "cell_type": "code",
   "execution_count": null,
   "id": "6c07ad80",
   "metadata": {},
   "outputs": [],
   "source": [
    "bigrams.get_feature_names_out()"
   ]
  },
  {
   "cell_type": "code",
   "execution_count": null,
   "id": "bc490f35",
   "metadata": {},
   "outputs": [],
   "source": [
    "tfidf_bigrams_train"
   ]
  },
  {
   "cell_type": "code",
   "execution_count": null,
   "id": "dfce9839",
   "metadata": {},
   "outputs": [],
   "source": [
    "tfidf_bigrams_valid"
   ]
  },
  {
   "cell_type": "code",
   "execution_count": null,
   "id": "0ffb18a8",
   "metadata": {},
   "outputs": [],
   "source": [
    "# Cross-validation\n",
    "bigrams_cv = TfidfVectorizer(stop_words='english', lowercase= True, ngram_range=(2,2))\n",
    "\n",
    "# For cross-validation, fit on all of the training and testing data\n",
    "bigrams_cv.fit(nomiss3['bg_icd_sp_clean'])\n",
    "\n",
    "tfidf_bigrams_cv = bigrams_cv.transform(nomiss3['bg_icd_sp_clean'])"
   ]
  },
  {
   "cell_type": "code",
   "execution_count": null,
   "id": "44fda2e9",
   "metadata": {},
   "outputs": [],
   "source": [
    "tfidf_bigrams_cv"
   ]
  },
  {
   "cell_type": "markdown",
   "id": "066c6507",
   "metadata": {},
   "source": [
    "Now we will go through each of the steps above again but this time to create vectorized data as trigrams."
   ]
  },
  {
   "cell_type": "code",
   "execution_count": null,
   "id": "84d4cec2",
   "metadata": {},
   "outputs": [],
   "source": [
    "trigrams = TfidfVectorizer(stop_words=\"english\",lowercase=True, ngram_range=(3,3))\n",
    "\n",
    "# fit only on the training data\n",
    "trigrams.fit(X_train)\n",
    "\n",
    "## transform raw text\n",
    "tfidf_trigrams_train = trigrams.transform(X_train)\n",
    "tfidf_trigrams_valid = trigrams.transform(X_valid)"
   ]
  },
  {
   "cell_type": "code",
   "execution_count": null,
   "id": "9b83952f",
   "metadata": {},
   "outputs": [],
   "source": [
    "trigrams.get_feature_names_out()"
   ]
  },
  {
   "cell_type": "code",
   "execution_count": null,
   "id": "bde34b6a",
   "metadata": {
    "scrolled": true
   },
   "outputs": [],
   "source": [
    "tfidf_trigrams_train"
   ]
  },
  {
   "cell_type": "code",
   "execution_count": null,
   "id": "0109ec76",
   "metadata": {},
   "outputs": [],
   "source": [
    "tfidf_trigrams_valid"
   ]
  },
  {
   "cell_type": "code",
   "execution_count": null,
   "id": "674317dc",
   "metadata": {},
   "outputs": [],
   "source": [
    "# Cross-validation\n",
    "trigrams_cv = TfidfVectorizer(stop_words='english', lowercase= True, ngram_range=(3,3))\n",
    "\n",
    "# For cross-validation, fit on all of the training and testing data\n",
    "trigrams_cv.fit(nomiss3['bg_icd_sp_clean'])\n",
    "\n",
    "tfidf_trigrams_cv = trigrams_cv.transform(nomiss3['bg_icd_sp_clean'])"
   ]
  },
  {
   "cell_type": "code",
   "execution_count": null,
   "id": "8576d2e9",
   "metadata": {},
   "outputs": [],
   "source": [
    "tfidf_trigrams_cv"
   ]
  },
  {
   "cell_type": "markdown",
   "id": "41788345",
   "metadata": {},
   "source": [
    "# Developing NLP model using unigrams\n",
    "\n",
    "We are testing three different models to see which one has the highest accuracy: Multinomial Naive Bayes, Multi-layer Perceptron (MLP) Classifier, and Random Forest Classifier. We will run each model using unigrams, bigrams, and trigrams, and compare accuracy scores to see which approach classifies our data best.\n",
    "\n",
    "The first model we will test with unigrams is Multinomial Naive Bayes."
   ]
  },
  {
   "cell_type": "code",
   "execution_count": null,
   "id": "42e4e1dc",
   "metadata": {
    "scrolled": true
   },
   "outputs": [],
   "source": [
    "mod1_nb = MultinomialNB().fit(tfidf_unigrams_train, y_train)\n",
    "\n",
    "# train results \n",
    "mod1_nb_train = mod1_nb.predict(tfidf_unigrams_train)\n",
    "print('accuracy', accuracy_score(y_train, mod1_nb_train))\n",
    "print('confusion matrix\\n', confusion_matrix(y_train, mod1_nb_train))\n",
    "print('(row=expected, col=predicted)')\n",
    "print(classification_report(y_train, mod1_nb_train))\n",
    "\n",
    "# validation results\n",
    "mod1_nb_valid = mod1_nb.predict(tfidf_unigrams_valid)\n",
    "print('accuracy', accuracy_score(y_valid, mod1_nb_valid))\n",
    "print('confusion matrix\\n', confusion_matrix(y_valid, mod1_nb_valid))\n",
    "print('(row=expected, col=predicted)')\n",
    "print(classification_report(y_valid, mod1_nb_valid))"
   ]
  },
  {
   "cell_type": "markdown",
   "id": "5f9c0e55",
   "metadata": {},
   "source": [
    "Now that we have run Multinomial Naive Bayes using unigrams with the training and validation datasets, we will run a cross-validation of this model."
   ]
  },
  {
   "cell_type": "code",
   "execution_count": null,
   "id": "3a28f39b",
   "metadata": {},
   "outputs": [],
   "source": [
    "# Cross-validation of first model\n",
    "mod1_nb = MultinomialNB()\n",
    "#scores = cross_val_score(mod1_nb, tfidf_unigrams_cv, y_cv, scoring='accuracy', cv=5, n_jobs=-1)\n",
    "#print(scores)\n",
    "#print(np.mean(scores))\n",
    "mod1_nb = MultinomialNB()\n",
    "scores = cross_val_score(mod1_nb, tfidf_unigrams_cv, y_cv, scoring='f1_weighted', cv=5, n_jobs=-1)\n",
    "print(scores)\n",
    "print(np.mean(scores))"
   ]
  },
  {
   "cell_type": "code",
   "execution_count": null,
   "id": "6806edb5",
   "metadata": {},
   "outputs": [],
   "source": [
    "mod1_nb_cv = cross_val_predict(mod1_nb, tfidf_unigrams_cv, y_cv, cv=5, n_jobs=-1)\n",
    "sklearn.metrics.accuracy_score(y_cv,mod1_nb_cv)"
   ]
  },
  {
   "cell_type": "markdown",
   "id": "1b44878e",
   "metadata": {},
   "source": [
    "Now we will follow the same steps above to run our unigrams with our second model, MLP Classifier."
   ]
  },
  {
   "cell_type": "code",
   "execution_count": null,
   "id": "1be34eeb",
   "metadata": {
    "scrolled": true
   },
   "outputs": [],
   "source": [
    "clf_mlp = MLPClassifier(random_state=1, max_iter=500).fit(tfidf_unigrams_train, y_train)\n",
    "\n",
    "# train results \n",
    "clf_mlp_train = clf_mlp.predict(tfidf_unigrams_train)\n",
    "print('accuracy', accuracy_score(y_train, clf_mlp_train))\n",
    "print('confusion matrix\\n', confusion_matrix(y_train, clf_mlp_train))\n",
    "print('(row=expected, col=predicted)')\n",
    "print(classification_report(y_train, clf_mlp_train))\n",
    "\n",
    "# validation results\n",
    "clf_mlp_valid = clf_mlp.predict(tfidf_unigrams_valid)\n",
    "print('accuracy', accuracy_score(y_valid, clf_mlp_valid))\n",
    "print('confusion matrix\\n', confusion_matrix(y_valid, clf_mlp_valid))\n",
    "print('(row=expected, col=predicted)')\n",
    "print(classification_report(y_valid, clf_mlp_valid))"
   ]
  },
  {
   "cell_type": "code",
   "execution_count": null,
   "id": "9c196d69",
   "metadata": {},
   "outputs": [],
   "source": [
    "# Cross-validation of second model\n",
    "#clf_mlp = MLPClassifier(random_state=1, max_iter=500)\n",
    "#scores = cross_val_score(clf_mlp, tfidf_unigrams_cv, y_cv, scoring='accuracy', cv=5, n_jobs=-1)\n",
    "#print(scores)\n",
    "#print(np.mean(scores))\n",
    "clf_mlp = MLPClassifier(random_state=1, max_iter=500)\n",
    "scores = cross_val_score(clf_mlp, tfidf_unigrams_cv, y_cv, scoring='f1_weighted', cv=5, n_jobs=-1)\n",
    "print(scores)\n",
    "print(np.mean(scores))"
   ]
  },
  {
   "cell_type": "code",
   "execution_count": null,
   "id": "8d6bd133",
   "metadata": {},
   "outputs": [],
   "source": [
    "clf_mlp_cv = cross_val_predict(clf_mlp, tfidf_unigrams_cv, y_cv, cv=5, n_jobs=-1)\n",
    "#sklearn.metrics.accuracy_score(y_cv, clf_mlp_cv)"
   ]
  },
  {
   "cell_type": "markdown",
   "id": "53969baf",
   "metadata": {},
   "source": [
    "The training and validation datasets performed much better using the MLP Classifier model, although the cross-validation scores were considerably lower. \n",
    "\n",
    "Now we will try the random forest classifier model using unigrams."
   ]
  },
  {
   "cell_type": "code",
   "execution_count": null,
   "id": "d8d93e66",
   "metadata": {},
   "outputs": [],
   "source": [
    "clf_rf = RandomForestClassifier(n_estimators=500, max_depth=6, random_state=1).fit(tfidf_unigrams_train, y_train)\n",
    "\n",
    "# train results \n",
    "clf_rf_train = clf_rf.predict(tfidf_unigrams_train)\n",
    "print('accuracy', accuracy_score(y_train, clf_rf_train))\n",
    "print('confusion matrix\\n', confusion_matrix(y_train, clf_rf_train))\n",
    "print('(row=expected, col=predicted)')\n",
    "print(classification_report(y_train, clf_rf_train))\n",
    "\n",
    "# validation results\n",
    "clf_rf_valid = clf_rf.predict(tfidf_unigrams_valid)\n",
    "print('accuracy', accuracy_score(y_valid, clf_rf_valid))\n",
    "print('confusion matrix\\n', confusion_matrix(y_valid, clf_rf_valid))\n",
    "print('(row=expected, col=predicted)')\n",
    "print(classification_report(y_valid, clf_rf_valid))"
   ]
  },
  {
   "cell_type": "code",
   "execution_count": null,
   "id": "7c7f5aac",
   "metadata": {},
   "outputs": [],
   "source": [
    "# Cross-validation of third model\n",
    "#clf_rf = RandomForestClassifier(n_estimators=500, max_depth=6, random_state=1)\n",
    "#scores = cross_val_score(clf_rf, tfidf_unigrams_cv, y_cv, scoring='accuracy', cv=5, n_jobs=-1)\n",
    "#print(scores)\n",
    "#print(np.mean(scores))\n",
    "clf_rf = RandomForestClassifier(n_estimators=500, max_depth=6, random_state=1)\n",
    "scores = cross_val_score(clf_rf, tfidf_unigrams_cv, y_cv, scoring='f1_weighted', cv=5, n_jobs=-1)\n",
    "print(scores)\n",
    "print(np.mean(scores))"
   ]
  },
  {
   "cell_type": "code",
   "execution_count": null,
   "id": "59cca9f8",
   "metadata": {},
   "outputs": [],
   "source": [
    "clf_rf_cv = cross_val_predict(clf_rf, tfidf_unigrams_cv, y_cv, cv=5, n_jobs=-1)\n",
    "sklearn.metrics.accuracy_score(y_cv,clf_rf_cv)"
   ]
  },
  {
   "cell_type": "markdown",
   "id": "64cf68e9",
   "metadata": {},
   "source": [
    "Among unigrams, the model with the highest accuracy scores is the MLP Classifier model, built on the training dataset. We will use that model to categorize our unclassified data."
   ]
  },
  {
   "cell_type": "markdown",
   "id": "7144f798",
   "metadata": {},
   "source": [
    "# Developing NLP model using bigrams\n",
    "\n",
    "We want to continue our model testing and development by exploring how the accuracy of our models change when we use bigrams instead of unigrams. We will conduct all the same steps above for bigrams and compare the accuracy scores to the unigrams."
   ]
  },
  {
   "cell_type": "code",
   "execution_count": null,
   "id": "ee22fbd7",
   "metadata": {
    "scrolled": true
   },
   "outputs": [],
   "source": [
    "#First model: Multinomial Naive Bayes\n",
    "mod2_nb = MultinomialNB().fit(tfidf_bigrams_train, y_train)\n",
    "\n",
    "# train results \n",
    "mod2_nb_train = mod2_nb.predict(tfidf_bigrams_train)\n",
    "print('accuracy', accuracy_score(y_train, mod2_nb_train))\n",
    "print('confusion matrix\\n', confusion_matrix(y_train, mod2_nb_train))\n",
    "print('(row=expected, col=predicted)')\n",
    "print(classification_report(y_train, mod2_nb_train))\n",
    "\n",
    "# validation results\n",
    "mod2_nb_valid = mod2_nb.predict(tfidf_bigrams_valid)\n",
    "print('accuracy', accuracy_score(y_valid, mod2_nb_valid))\n",
    "print('confusion matrix\\n', confusion_matrix(y_valid, mod2_nb_valid))\n",
    "print('(row=expected, col=predicted)')\n",
    "print(classification_report(y_valid, mod2_nb_valid))"
   ]
  },
  {
   "cell_type": "code",
   "execution_count": null,
   "id": "70946d1d",
   "metadata": {},
   "outputs": [],
   "source": [
    "# Cross-validation of first model\n",
    "#mod2_nb = MultinomialNB()\n",
    "#scores = cross_val_score(mod2_nb, tfidf_bigrams_cv, y_cv, scoring='accuracy', cv=5, n_jobs=-1)\n",
    "#print(scores)\n",
    "#print(np.mean(scores))\n",
    "mod2_nb = MultinomialNB()\n",
    "scores = cross_val_score(mod2_nb, tfidf_bigrams_cv, y_cv, scoring='f1_weighted', cv=5, n_jobs=-1)\n",
    "print(scores)\n",
    "print(np.mean(scores))"
   ]
  },
  {
   "cell_type": "code",
   "execution_count": null,
   "id": "6ba54935",
   "metadata": {},
   "outputs": [],
   "source": [
    "mod2_nb_cv = cross_val_predict(mod2_nb, tfidf_bigrams_cv, y_cv, cv=5, n_jobs=-1)\n",
    "sklearn.metrics.accuracy_score(y_cv,mod2_nb_cv)"
   ]
  },
  {
   "cell_type": "code",
   "execution_count": null,
   "id": "c12b2049",
   "metadata": {
    "scrolled": true
   },
   "outputs": [],
   "source": [
    "# Second model: MLP Classifier\n",
    "clf_mlp2 = MLPClassifier(random_state=1, max_iter=500).fit(tfidf_bigrams_train, y_train)\n",
    "\n",
    "# train results \n",
    "clf_mlp2_train = clf_mlp2.predict(tfidf_bigrams_train)\n",
    "print('accuracy', accuracy_score(y_train, clf_mlp2_train))\n",
    "print('confusion matrix\\n', confusion_matrix(y_train, clf_mlp2_train))\n",
    "print('(row=expected, col=predicted)')\n",
    "print(classification_report(y_train, clf_mlp2_train))\n",
    "\n",
    "# validation results\n",
    "clf_mlp2_valid = clf_mlp2.predict(tfidf_bigrams_valid)\n",
    "print('accuracy', accuracy_score(y_valid, clf_mlp2_valid))\n",
    "print('confusion matrix\\n', confusion_matrix(y_valid, clf_mlp2_valid))\n",
    "print('(row=expected, col=predicted)')\n",
    "print(classification_report(y_valid, clf_mlp2_valid))"
   ]
  },
  {
   "cell_type": "code",
   "execution_count": null,
   "id": "28650224",
   "metadata": {},
   "outputs": [],
   "source": [
    "# Cross-validation of second model\n",
    "#clf_mlp2 = MLPClassifier(random_state=1, max_iter=500)\n",
    "#scores = cross_val_score(clf_mlp2, tfidf_bigrams_cv, y_cv, scoring='accuracy', cv=5, n_jobs=-1)\n",
    "#print(scores)\n",
    "#print(np.mean(scores))\n",
    "clf_mlp2 = MLPClassifier(random_state=1, max_iter=500)\n",
    "scores = cross_val_score(clf_mlp2, tfidf_bigrams_cv, y_cv, scoring='f1_weighted', cv=5, n_jobs=-1)\n",
    "print(scores)\n",
    "print(np.mean(scores))"
   ]
  },
  {
   "cell_type": "code",
   "execution_count": null,
   "id": "98a5d512",
   "metadata": {},
   "outputs": [],
   "source": [
    "clf_mlp2_cv = cross_val_predict(clf_mlp2, tfidf_bigrams_cv, y_cv, cv=5, n_jobs=-1)\n",
    "sklearn.metrics.accuracy_score(y_cv,clf_mlp2_cv)"
   ]
  },
  {
   "cell_type": "code",
   "execution_count": null,
   "id": "0108648c",
   "metadata": {},
   "outputs": [],
   "source": [
    "# Third model: Random Forest Classifier\n",
    "clf_rf2 = RandomForestClassifier(n_estimators=500, max_depth=6, random_state=1).fit(tfidf_bigrams_train, y_train)\n",
    "\n",
    "# train results \n",
    "clf_rf2_train = clf_rf2.predict(tfidf_bigrams_train)\n",
    "print('accuracy', accuracy_score(y_train, clf_rf2_train))\n",
    "print('confusion matrix\\n', confusion_matrix(y_train, clf_rf2_train))\n",
    "print('(row=expected, col=predicted)')\n",
    "print(classification_report(y_train, clf_rf2_train))\n",
    "\n",
    "# validation results\n",
    "clf_rf2_valid = clf_rf2.predict(tfidf_bigrams_valid)\n",
    "print('accuracy', accuracy_score(y_valid, clf_rf2_valid))\n",
    "print('confusion matrix\\n', confusion_matrix(y_valid, clf_rf2_valid))\n",
    "print('(row=expected, col=predicted)')\n",
    "print(classification_report(y_valid, clf_rf2_valid))"
   ]
  },
  {
   "cell_type": "code",
   "execution_count": null,
   "id": "0c136802",
   "metadata": {},
   "outputs": [],
   "source": [
    "# Cross-validation of third model\n",
    "#clf_rf2 = RandomForestClassifier(n_estimators=500, max_depth=6, random_state=1)\n",
    "#scores = cross_val_score(clf_rf2, tfidf_bigrams_cv, y_cv, scoring='accuracy', cv=5, n_jobs=-1)\n",
    "#print(scores)\n",
    "#print(np.mean(scores))\n",
    "clf_rf2 = RandomForestClassifier(n_estimators=500, max_depth=6, random_state=1)\n",
    "scores = cross_val_score(clf_rf2, tfidf_bigrams_cv, y_cv, scoring='f1_weighted', cv=5, n_jobs=-1)\n",
    "print(scores)\n",
    "print(np.mean(scores))"
   ]
  },
  {
   "cell_type": "code",
   "execution_count": null,
   "id": "ace27d2f",
   "metadata": {},
   "outputs": [],
   "source": [
    "clf_rf2_cv = cross_val_predict(clf_rf2, tfidf_bigrams_cv, y_cv, cv=5, n_jobs=-1)\n",
    "sklearn.metrics.accuracy_score(y_cv, clf_rf2_cv)"
   ]
  },
  {
   "cell_type": "markdown",
   "id": "27d47246",
   "metadata": {},
   "source": [
    "# Developing NLP model using trigrams\n",
    "\n",
    "Finally, we will run through all of these steps again using trigrams to see if model performance is improved compared to unigrams and bigrams."
   ]
  },
  {
   "cell_type": "code",
   "execution_count": null,
   "id": "328c96ae",
   "metadata": {},
   "outputs": [],
   "source": [
    "#First model: Multinomial Naive Bayes\n",
    "mod3_nb = MultinomialNB().fit(tfidf_trigrams_train, y_train)\n",
    "\n",
    "# train results \n",
    "mod3_nb_train = mod3_nb.predict(tfidf_trigrams_train)\n",
    "print('accuracy', accuracy_score(y_train, mod3_nb_train))\n",
    "print('confusion matrix\\n', confusion_matrix(y_train, mod3_nb_train))\n",
    "print('(row=expected, col=predicted)')\n",
    "print(classification_report(y_train, mod3_nb_train))\n",
    "\n",
    "# validation results\n",
    "mod3_nb_valid = mod3_nb.predict(tfidf_trigrams_valid)\n",
    "print('accuracy', accuracy_score(y_valid, mod3_nb_valid))\n",
    "print('confusion matrix\\n', confusion_matrix(y_valid, mod3_nb_valid))\n",
    "print('(row=expected, col=predicted)')\n",
    "print(classification_report(y_valid, mod3_nb_valid))"
   ]
  },
  {
   "cell_type": "code",
   "execution_count": null,
   "id": "92e94bf0",
   "metadata": {},
   "outputs": [],
   "source": [
    "# Cross-validation of first model\n",
    "#mod3_nb = MultinomialNB()\n",
    "#scores = cross_val_score(mod3_nb, tfidf_trigrams_cv, y_cv, scoring='accuracy', cv=5, n_jobs=-1)\n",
    "#print(scores)\n",
    "#print(np.mean(scores))\n",
    "mod3_nb = MultinomialNB()\n",
    "scores = cross_val_score(mod3_nb, tfidf_trigrams_cv, y_cv, scoring='f1_weighted', cv=5, n_jobs=-1)\n",
    "print(scores)\n",
    "print(np.mean(scores))"
   ]
  },
  {
   "cell_type": "code",
   "execution_count": null,
   "id": "65031a99",
   "metadata": {},
   "outputs": [],
   "source": [
    "mod3_nb_cv = cross_val_predict(mod3_nb, tfidf_trigrams_cv, y_cv, cv=5, n_jobs=-1)\n",
    "sklearn.metrics.accuracy_score(y_cv, mod3_nb_cv)"
   ]
  },
  {
   "cell_type": "code",
   "execution_count": null,
   "id": "e014d03b",
   "metadata": {},
   "outputs": [],
   "source": [
    "# Second model: MLP Classifier\n",
    "clf_mlp3 = MLPClassifier(random_state=1, max_iter=500).fit(tfidf_trigrams_train, y_train)\n",
    "\n",
    "# train results \n",
    "clf_mlp3_train = clf_mlp3.predict(tfidf_trigrams_train)\n",
    "print('accuracy', accuracy_score(y_train, clf_mlp3_train))\n",
    "print('confusion matrix\\n', confusion_matrix(y_train, clf_mlp3_train))\n",
    "print('(row=expected, col=predicted)')\n",
    "print(classification_report(y_train, clf_mlp3_train))\n",
    "\n",
    "# validation results\n",
    "clf_mlp3_valid = clf_mlp3.predict(tfidf_trigrams_valid)\n",
    "print('accuracy', accuracy_score(y_valid, clf_mlp3_valid))\n",
    "print('confusion matrix\\n', confusion_matrix(y_valid, clf_mlp3_valid))\n",
    "print('(row=expected, col=predicted)')\n",
    "print(classification_report(y_valid, clf_mlp3_valid))"
   ]
  },
  {
   "cell_type": "code",
   "execution_count": null,
   "id": "792c4afe",
   "metadata": {},
   "outputs": [],
   "source": [
    "# Cross-validation of second model\n",
    "#clf_mlp3 = MLPClassifier(random_state=1, max_iter=500)\n",
    "#scores = cross_val_score(clf_mlp3, tfidf_trigrams_cv, y_cv, scoring='accuracy', cv=5, n_jobs=-1)\n",
    "#print(scores)\n",
    "#print(np.mean(scores))\n",
    "clf_mlp3 = MLPClassifier(random_state=1, max_iter=500)\n",
    "scores = cross_val_score(clf_mlp3, tfidf_trigrams_cv, y_cv, scoring='f1_weighted', cv=5, n_jobs=-1)\n",
    "print(scores)\n",
    "print(np.mean(scores))"
   ]
  },
  {
   "cell_type": "code",
   "execution_count": null,
   "id": "13ca8afb",
   "metadata": {},
   "outputs": [],
   "source": [
    "clf_mlp3_cv = cross_val_predict(clf_mlp3, tfidf_trigrams_cv, y_cv, cv=5, n_jobs=-1)\n",
    "sklearn.metrics.f1_score(y_cv, clf_mlp3_cv, average='weighted')"
   ]
  },
  {
   "cell_type": "code",
   "execution_count": null,
   "id": "75666992",
   "metadata": {},
   "outputs": [],
   "source": [
    "# Third model: Random Forest Classifier\n",
    "clf_rf3 = RandomForestClassifier(n_estimators=500, max_depth=6, random_state=1).fit(tfidf_trigrams_train, y_train)\n",
    "\n",
    "# train results \n",
    "clf_rf3_train = clf_rf3.predict(tfidf_trigrams_train)\n",
    "print('accuracy', accuracy_score(y_train, clf_rf3_train))\n",
    "print('confusion matrix\\n', confusion_matrix(y_train, clf_rf3_train))\n",
    "print('(row=expected, col=predicted)')\n",
    "print(classification_report(y_train, clf_rf3_train))\n",
    "\n",
    "# test results\n",
    "clf_rf3_valid = clf_rf3.predict(tfidf_trigrams_valid)\n",
    "print('accuracy', accuracy_score(y_valid, clf_rf3_valid))\n",
    "print('confusion matrix\\n', confusion_matrix(y_valid, clf_rf3_valid))\n",
    "print('(row=expected, col=predicted)')\n",
    "print(classification_report(y_valid, clf_rf3_valid))"
   ]
  },
  {
   "cell_type": "code",
   "execution_count": null,
   "id": "c74f015d",
   "metadata": {},
   "outputs": [],
   "source": [
    "# Cross-validation of third model\n",
    "#clf_rf3 = RandomForestClassifier(n_estimators=500, max_depth=6, random_state=1)\n",
    "#scores = cross_val_score(clf_rf3, tfidf_trigrams_cv, y_cv, scoring='accuracy', cv=5, n_jobs=-1)\n",
    "#print(scores)\n",
    "#print(np.mean(scores))\n",
    "clf_rf3 = RandomForestClassifier(n_estimators=500, max_depth=6, random_state=1)\n",
    "scores = cross_val_score(clf_rf3, tfidf_trigrams_cv, y_cv, scoring='f1_weighted', cv=5, n_jobs=-1)\n",
    "print(scores)\n",
    "print(np.mean(scores))"
   ]
  },
  {
   "cell_type": "code",
   "execution_count": null,
   "id": "c499334d",
   "metadata": {},
   "outputs": [],
   "source": [
    "clf_rf3_cv = cross_val_predict(clf_rf3, tfidf_trigrams_cv, y_cv, cv=5, n_jobs=-1)\n",
    "sklearn.metrics.f1_score(y_cv, clf_rf3_cv, average='weighted')"
   ]
  },
  {
   "cell_type": "markdown",
   "id": "bfcd7f73",
   "metadata": {},
   "source": [
    "## Merge the classified results into a single dataset\n",
    "\n",
    "Since the unigrams results with MLP Classifier were the most accurate, we will consider these to be our true categories and will merge their data with nomiss_clean3 so we have a full, classified dataset."
   ]
  },
  {
   "cell_type": "code",
   "execution_count": null,
   "id": "1422a17d",
   "metadata": {},
   "outputs": [],
   "source": [
    "Qmiss4 = Qmiss3[['ID','ICD','bg_icd_sp_clean']].copy()\n",
    "Qmiss4.shape"
   ]
  },
  {
   "cell_type": "code",
   "execution_count": null,
   "id": "9918da7b",
   "metadata": {},
   "outputs": [],
   "source": [
    "# Model with the highest accuracy\n",
    "clf_mlp = MLPClassifier(random_state=1, max_iter=500).fit(tfidf_unigrams_train, y_train)\n",
    "\n",
    "# transform raw text in Qmiss\n",
    "tfidfQmiss_uni = unigrams.transform(Qmiss3['bg_icd_sp_clean'])\n",
    "tfidfQmiss_uni"
   ]
  },
  {
   "cell_type": "code",
   "execution_count": null,
   "id": "34a6fc4d",
   "metadata": {},
   "outputs": [],
   "source": [
    "classified_data = pd.Series(clf_mlp.predict(tfidfQmiss_uni))\n",
    "classified_data"
   ]
  },
  {
   "cell_type": "code",
   "execution_count": null,
   "id": "8677d38b",
   "metadata": {},
   "outputs": [],
   "source": [
    "Qmiss_classified = pd.concat([Qmiss4,classified_data],axis=1)\n",
    "Qmiss_classified.rename(columns={0:\"Category\"},inplace=True)"
   ]
  },
  {
   "cell_type": "code",
   "execution_count": null,
   "id": "9900d7af",
   "metadata": {},
   "outputs": [],
   "source": [
    "#Save separate dataset for just the Qmiss observations categorized \n",
    "# by our model\n",
    "Qmiss_classified.to_excel('Missing Q codes_classified.xlsx')"
   ]
  },
  {
   "cell_type": "code",
   "execution_count": null,
   "id": "1e265da1",
   "metadata": {},
   "outputs": [],
   "source": [
    "# Join Qmiss_classified with nonmissing\n",
    "POB_final = pd.concat([nomiss3, Qmiss_classified],ignore_index = True)\n",
    "POB_final"
   ]
  },
  {
   "cell_type": "code",
   "execution_count": null,
   "id": "c9c7556f",
   "metadata": {},
   "outputs": [],
   "source": [
    "# Export the final dataset\n",
    "# Be sure to change the date in the filename!\n",
    "POB_final.to_excel('POB Birth Defects Classified_NLP.xlsx')"
   ]
  },
  {
   "cell_type": "markdown",
   "id": "d9e2cb03",
   "metadata": {},
   "source": [
    "Congratulations! You have now cleaned the birth defects data and categorized each observation into a birth defect category.\n",
    "\n",
    "If you have any questions about this code, please contact the SET-NET team."
   ]
  }
 ],
 "metadata": {
  "kernelspec": {
   "display_name": "Python 3 (ipykernel)",
   "language": "python",
   "name": "python3"
  },
  "language_info": {
   "codemirror_mode": {
    "name": "ipython",
    "version": 3
   },
   "file_extension": ".py",
   "mimetype": "text/x-python",
   "name": "python",
   "nbconvert_exporter": "python",
   "pygments_lexer": "ipython3",
   "version": "3.9.12"
  },
  "toc": {
   "base_numbering": 1,
   "nav_menu": {},
   "number_sections": true,
   "sideBar": true,
   "skip_h1_title": false,
   "title_cell": "Table of Contents",
   "title_sidebar": "Contents",
   "toc_cell": false,
   "toc_position": {},
   "toc_section_display": true,
   "toc_window_display": false
  },
  "varInspector": {
   "cols": {
    "lenName": 16,
    "lenType": 16,
    "lenVar": 40
   },
   "kernels_config": {
    "python": {
     "delete_cmd_postfix": "",
     "delete_cmd_prefix": "del ",
     "library": "var_list.py",
     "varRefreshCmd": "print(var_dic_list())"
    },
    "r": {
     "delete_cmd_postfix": ") ",
     "delete_cmd_prefix": "rm(",
     "library": "var_list.r",
     "varRefreshCmd": "cat(var_dic_list()) "
    }
   },
   "types_to_exclude": [
    "module",
    "function",
    "builtin_function_or_method",
    "instance",
    "_Feature"
   ],
   "window_display": false
  }
 },
 "nbformat": 4,
 "nbformat_minor": 5
}
